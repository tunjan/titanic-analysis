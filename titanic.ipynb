{
 "cells": [
  {
   "cell_type": "code",
   "execution_count": 1,
   "id": "aba14af5",
   "metadata": {
    "_cell_guid": "b1076dfc-b9ad-4769-8c92-a6c4dae69d19",
    "_uuid": "8f2839f25d086af736a60e9eeb907d3b93b6e0e5",
    "execution": {
     "iopub.execute_input": "2023-10-14T22:20:38.528800Z",
     "iopub.status.busy": "2023-10-14T22:20:38.528505Z",
     "iopub.status.idle": "2023-10-14T22:20:38.794612Z",
     "shell.execute_reply": "2023-10-14T22:20:38.794004Z"
    },
    "papermill": {
     "duration": 0.276506,
     "end_time": "2023-10-14T22:20:38.796264",
     "exception": false,
     "start_time": "2023-10-14T22:20:38.519758",
     "status": "completed"
    },
    "tags": []
   },
   "outputs": [
    {
     "name": "stdout",
     "output_type": "stream",
     "text": [
      "/kaggle/input/titanic/train.csv\n",
      "/kaggle/input/titanic/test.csv\n",
      "/kaggle/input/titanic/gender_submission.csv\n"
     ]
    }
   ],
   "source": [
    "# This Python 3 environment comes with many helpful analytics libraries installed\n",
    "# It is defined by the kaggle/python Docker image: https://github.com/kaggle/docker-python\n",
    "# For example, here's several helpful packages to load\n",
    "\n",
    "import numpy as np # linear algebra\n",
    "import pandas as pd # data processing, CSV file I/O (e.g. pd.read_csv)\n",
    "\n",
    "# Input data files are available in the read-only \"../input/\" directory\n",
    "# For example, running this (by clicking run or pressing Shift+Enter) will list all files under the input directory\n",
    "\n",
    "import os\n",
    "for dirname, _, filenames in os.walk('/kaggle/input'):\n",
    "    for filename in filenames:\n",
    "        print(os.path.join(dirname, filename))\n",
    "\n",
    "# You can write up to 20GB to the current directory (/kaggle/working/) that gets preserved as output when you create a version using \"Save & Run All\" \n",
    "# You can also write temporary files to /kaggle/temp/, but they won't be saved outside of the current session"
   ]
  },
  {
   "cell_type": "code",
   "execution_count": 2,
   "id": "52f45ecf",
   "metadata": {
    "execution": {
     "iopub.execute_input": "2023-10-14T22:20:38.812034Z",
     "iopub.status.busy": "2023-10-14T22:20:38.811639Z",
     "iopub.status.idle": "2023-10-14T22:20:38.839502Z",
     "shell.execute_reply": "2023-10-14T22:20:38.838194Z"
    },
    "papermill": {
     "duration": 0.038312,
     "end_time": "2023-10-14T22:20:38.841601",
     "exception": false,
     "start_time": "2023-10-14T22:20:38.803289",
     "status": "completed"
    },
    "tags": []
   },
   "outputs": [],
   "source": [
    "# Read the data into the workspace\n",
    "df_1 = pd.read_csv(\"/kaggle/input/titanic/train.csv\")\n",
    "df_2 = pd.read_csv(\"/kaggle/input/titanic/test.csv\")\n",
    "\n",
    "# Make working copies\n",
    "train_df = df_1.copy()\n",
    "test_df = df_2.copy()"
   ]
  },
  {
   "cell_type": "code",
   "execution_count": 3,
   "id": "397c11df",
   "metadata": {
    "execution": {
     "iopub.execute_input": "2023-10-14T22:20:38.855943Z",
     "iopub.status.busy": "2023-10-14T22:20:38.855654Z",
     "iopub.status.idle": "2023-10-14T22:20:38.882910Z",
     "shell.execute_reply": "2023-10-14T22:20:38.881815Z"
    },
    "papermill": {
     "duration": 0.037163,
     "end_time": "2023-10-14T22:20:38.885246",
     "exception": false,
     "start_time": "2023-10-14T22:20:38.848083",
     "status": "completed"
    },
    "tags": []
   },
   "outputs": [
    {
     "data": {
      "text/html": [
       "<div>\n",
       "<style scoped>\n",
       "    .dataframe tbody tr th:only-of-type {\n",
       "        vertical-align: middle;\n",
       "    }\n",
       "\n",
       "    .dataframe tbody tr th {\n",
       "        vertical-align: top;\n",
       "    }\n",
       "\n",
       "    .dataframe thead th {\n",
       "        text-align: right;\n",
       "    }\n",
       "</style>\n",
       "<table border=\"1\" class=\"dataframe\">\n",
       "  <thead>\n",
       "    <tr style=\"text-align: right;\">\n",
       "      <th></th>\n",
       "      <th>PassengerId</th>\n",
       "      <th>Survived</th>\n",
       "      <th>Pclass</th>\n",
       "      <th>Name</th>\n",
       "      <th>Sex</th>\n",
       "      <th>Age</th>\n",
       "      <th>SibSp</th>\n",
       "      <th>Parch</th>\n",
       "      <th>Ticket</th>\n",
       "      <th>Fare</th>\n",
       "      <th>Cabin</th>\n",
       "      <th>Embarked</th>\n",
       "    </tr>\n",
       "  </thead>\n",
       "  <tbody>\n",
       "    <tr>\n",
       "      <th>0</th>\n",
       "      <td>1</td>\n",
       "      <td>0</td>\n",
       "      <td>3</td>\n",
       "      <td>Braund, Mr. Owen Harris</td>\n",
       "      <td>male</td>\n",
       "      <td>22.0</td>\n",
       "      <td>1</td>\n",
       "      <td>0</td>\n",
       "      <td>A/5 21171</td>\n",
       "      <td>7.2500</td>\n",
       "      <td>NaN</td>\n",
       "      <td>S</td>\n",
       "    </tr>\n",
       "    <tr>\n",
       "      <th>1</th>\n",
       "      <td>2</td>\n",
       "      <td>1</td>\n",
       "      <td>1</td>\n",
       "      <td>Cumings, Mrs. John Bradley (Florence Briggs Th...</td>\n",
       "      <td>female</td>\n",
       "      <td>38.0</td>\n",
       "      <td>1</td>\n",
       "      <td>0</td>\n",
       "      <td>PC 17599</td>\n",
       "      <td>71.2833</td>\n",
       "      <td>C85</td>\n",
       "      <td>C</td>\n",
       "    </tr>\n",
       "    <tr>\n",
       "      <th>2</th>\n",
       "      <td>3</td>\n",
       "      <td>1</td>\n",
       "      <td>3</td>\n",
       "      <td>Heikkinen, Miss. Laina</td>\n",
       "      <td>female</td>\n",
       "      <td>26.0</td>\n",
       "      <td>0</td>\n",
       "      <td>0</td>\n",
       "      <td>STON/O2. 3101282</td>\n",
       "      <td>7.9250</td>\n",
       "      <td>NaN</td>\n",
       "      <td>S</td>\n",
       "    </tr>\n",
       "    <tr>\n",
       "      <th>3</th>\n",
       "      <td>4</td>\n",
       "      <td>1</td>\n",
       "      <td>1</td>\n",
       "      <td>Futrelle, Mrs. Jacques Heath (Lily May Peel)</td>\n",
       "      <td>female</td>\n",
       "      <td>35.0</td>\n",
       "      <td>1</td>\n",
       "      <td>0</td>\n",
       "      <td>113803</td>\n",
       "      <td>53.1000</td>\n",
       "      <td>C123</td>\n",
       "      <td>S</td>\n",
       "    </tr>\n",
       "    <tr>\n",
       "      <th>4</th>\n",
       "      <td>5</td>\n",
       "      <td>0</td>\n",
       "      <td>3</td>\n",
       "      <td>Allen, Mr. William Henry</td>\n",
       "      <td>male</td>\n",
       "      <td>35.0</td>\n",
       "      <td>0</td>\n",
       "      <td>0</td>\n",
       "      <td>373450</td>\n",
       "      <td>8.0500</td>\n",
       "      <td>NaN</td>\n",
       "      <td>S</td>\n",
       "    </tr>\n",
       "  </tbody>\n",
       "</table>\n",
       "</div>"
      ],
      "text/plain": [
       "   PassengerId  Survived  Pclass  \\\n",
       "0            1         0       3   \n",
       "1            2         1       1   \n",
       "2            3         1       3   \n",
       "3            4         1       1   \n",
       "4            5         0       3   \n",
       "\n",
       "                                                Name     Sex   Age  SibSp  \\\n",
       "0                            Braund, Mr. Owen Harris    male  22.0      1   \n",
       "1  Cumings, Mrs. John Bradley (Florence Briggs Th...  female  38.0      1   \n",
       "2                             Heikkinen, Miss. Laina  female  26.0      0   \n",
       "3       Futrelle, Mrs. Jacques Heath (Lily May Peel)  female  35.0      1   \n",
       "4                           Allen, Mr. William Henry    male  35.0      0   \n",
       "\n",
       "   Parch            Ticket     Fare Cabin Embarked  \n",
       "0      0         A/5 21171   7.2500   NaN        S  \n",
       "1      0          PC 17599  71.2833   C85        C  \n",
       "2      0  STON/O2. 3101282   7.9250   NaN        S  \n",
       "3      0            113803  53.1000  C123        S  \n",
       "4      0            373450   8.0500   NaN        S  "
      ]
     },
     "execution_count": 3,
     "metadata": {},
     "output_type": "execute_result"
    }
   ],
   "source": [
    "train_df.head()"
   ]
  },
  {
   "cell_type": "code",
   "execution_count": 4,
   "id": "9ade2dde",
   "metadata": {
    "execution": {
     "iopub.execute_input": "2023-10-14T22:20:38.900634Z",
     "iopub.status.busy": "2023-10-14T22:20:38.900254Z",
     "iopub.status.idle": "2023-10-14T22:20:40.446802Z",
     "shell.execute_reply": "2023-10-14T22:20:40.445959Z"
    },
    "papermill": {
     "duration": 1.556573,
     "end_time": "2023-10-14T22:20:40.448768",
     "exception": false,
     "start_time": "2023-10-14T22:20:38.892195",
     "status": "completed"
    },
    "tags": []
   },
   "outputs": [],
   "source": [
    "# import necessary dependencies\n",
    "import matplotlib.pyplot as plt\n",
    "import seaborn as sns\n",
    "import missingno as msno\n",
    "from scipy import stats\n",
    "\n",
    "%matplotlib inline"
   ]
  },
  {
   "cell_type": "code",
   "execution_count": 5,
   "id": "b4752fd2",
   "metadata": {
    "execution": {
     "iopub.execute_input": "2023-10-14T22:20:40.464642Z",
     "iopub.status.busy": "2023-10-14T22:20:40.464292Z",
     "iopub.status.idle": "2023-10-14T22:20:40.483102Z",
     "shell.execute_reply": "2023-10-14T22:20:40.482034Z"
    },
    "papermill": {
     "duration": 0.028909,
     "end_time": "2023-10-14T22:20:40.485255",
     "exception": false,
     "start_time": "2023-10-14T22:20:40.456346",
     "status": "completed"
    },
    "tags": []
   },
   "outputs": [],
   "source": [
    "train_df.drop('Cabin', axis=1,inplace=True)\n",
    "test_df.drop('Cabin', axis=1,inplace=True)\n",
    "\n",
    "train_df.drop('Name', axis=1,inplace=True)\n",
    "test_df.drop('Name', axis=1,inplace=True)"
   ]
  },
  {
   "cell_type": "code",
   "execution_count": 6,
   "id": "7d7f7df7",
   "metadata": {
    "execution": {
     "iopub.execute_input": "2023-10-14T22:20:40.500774Z",
     "iopub.status.busy": "2023-10-14T22:20:40.500374Z",
     "iopub.status.idle": "2023-10-14T22:20:40.663197Z",
     "shell.execute_reply": "2023-10-14T22:20:40.662494Z"
    },
    "papermill": {
     "duration": 0.173347,
     "end_time": "2023-10-14T22:20:40.665428",
     "exception": false,
     "start_time": "2023-10-14T22:20:40.492081",
     "status": "completed"
    },
    "tags": []
   },
   "outputs": [
    {
     "data": {
      "text/plain": [
       "<Axes: xlabel='Survived', ylabel='count'>"
      ]
     },
     "execution_count": 6,
     "metadata": {},
     "output_type": "execute_result"
    },
    {
     "data": {
      "image/png": "[encoded data removed]",
      "text/plain": [
       "<Figure size 640x480 with 1 Axes>"
      ]
     },
     "metadata": {},
     "output_type": "display_data"
    }
   ],
   "source": [
    "sns.countplot(x=train_df['Survived'])"
   ]
  },
  {
   "cell_type": "code",
   "execution_count": 7,
   "id": "73e5d4ea",
   "metadata": {
    "execution": {
     "iopub.execute_input": "2023-10-14T22:20:40.684752Z",
     "iopub.status.busy": "2023-10-14T22:20:40.684449Z",
     "iopub.status.idle": "2023-10-14T22:20:40.689893Z",
     "shell.execute_reply": "2023-10-14T22:20:40.688756Z"
    },
    "papermill": {
     "duration": 0.015257,
     "end_time": "2023-10-14T22:20:40.691529",
     "exception": false,
     "start_time": "2023-10-14T22:20:40.676272",
     "status": "completed"
    },
    "tags": []
   },
   "outputs": [],
   "source": [
    "all_features_train = train_df.columns.tolist()\n",
    "all_features_test = test_df.columns.tolist()"
   ]
  },
  {
   "cell_type": "code",
   "execution_count": 8,
   "id": "8bc77c53",
   "metadata": {
    "execution": {
     "iopub.execute_input": "2023-10-14T22:20:40.706153Z",
     "iopub.status.busy": "2023-10-14T22:20:40.705876Z",
     "iopub.status.idle": "2023-10-14T22:20:40.711281Z",
     "shell.execute_reply": "2023-10-14T22:20:40.710064Z"
    },
    "papermill": {
     "duration": 0.015391,
     "end_time": "2023-10-14T22:20:40.713710",
     "exception": false,
     "start_time": "2023-10-14T22:20:40.698319",
     "status": "completed"
    },
    "tags": []
   },
   "outputs": [],
   "source": [
    "categorical_columns_train = train_df.select_dtypes(include=['object']).columns.tolist()\n",
    "numerical_columns_train = train_df.select_dtypes(include=['number']).columns.tolist()"
   ]
  },
  {
   "cell_type": "code",
   "execution_count": 9,
   "id": "d86b9672",
   "metadata": {
    "execution": {
     "iopub.execute_input": "2023-10-14T22:20:40.729403Z",
     "iopub.status.busy": "2023-10-14T22:20:40.729047Z",
     "iopub.status.idle": "2023-10-14T22:20:40.733778Z",
     "shell.execute_reply": "2023-10-14T22:20:40.733104Z"
    },
    "papermill": {
     "duration": 0.014638,
     "end_time": "2023-10-14T22:20:40.735501",
     "exception": false,
     "start_time": "2023-10-14T22:20:40.720863",
     "status": "completed"
    },
    "tags": []
   },
   "outputs": [
    {
     "name": "stdout",
     "output_type": "stream",
     "text": [
      "Categorical features train:  ['Sex', 'Ticket', 'Embarked']\n",
      "Numerical features train:  ['PassengerId', 'Survived', 'Pclass', 'Age', 'SibSp', 'Parch', 'Fare']\n"
     ]
    }
   ],
   "source": [
    "print(\"Categorical features train: \", categorical_columns_train)\n",
    "print(\"Numerical features train: \", numerical_columns_train)"
   ]
  },
  {
   "cell_type": "code",
   "execution_count": 10,
   "id": "25f4b11b",
   "metadata": {
    "execution": {
     "iopub.execute_input": "2023-10-14T22:20:40.750760Z",
     "iopub.status.busy": "2023-10-14T22:20:40.750200Z",
     "iopub.status.idle": "2023-10-14T22:20:40.754369Z",
     "shell.execute_reply": "2023-10-14T22:20:40.753295Z"
    },
    "papermill": {
     "duration": 0.01365,
     "end_time": "2023-10-14T22:20:40.756095",
     "exception": false,
     "start_time": "2023-10-14T22:20:40.742445",
     "status": "completed"
    },
    "tags": []
   },
   "outputs": [],
   "source": [
    "numerical_columns_train.remove('PassengerId')\n",
    "numerical_columns_train.remove('Survived')"
   ]
  },
  {
   "cell_type": "code",
   "execution_count": 11,
   "id": "5b90fa31",
   "metadata": {
    "execution": {
     "iopub.execute_input": "2023-10-14T22:20:40.770856Z",
     "iopub.status.busy": "2023-10-14T22:20:40.770578Z",
     "iopub.status.idle": "2023-10-14T22:20:42.030305Z",
     "shell.execute_reply": "2023-10-14T22:20:42.029690Z"
    },
    "papermill": {
     "duration": 1.268628,
     "end_time": "2023-10-14T22:20:42.031812",
     "exception": false,
     "start_time": "2023-10-14T22:20:40.763184",
     "status": "completed"
    },
    "tags": []
   },
   "outputs": [
    {
     "data": {
      "image/png": "[encoded data removed]",
      "text/plain": [
       "<Figure size 3000x3000 with 5 Axes>"
      ]
     },
     "metadata": {},
     "output_type": "display_data"
    }
   ],
   "source": [
    "column_list = numerical_columns_train\n",
    "\n",
    "# Calculate number of rows and cols based on list length\n",
    "num_rows = len(column_list) // 2 + (len(column_list) % 2 > 0)\n",
    "num_cols = 2\n",
    "\n",
    "# Create subplots\n",
    "fig, axes = plt.subplots(num_rows, num_cols, figsize=(30, 30))\n",
    "\n",
    "# Plot each column in a loop\n",
    "for idx, column in enumerate(column_list):\n",
    "    row = idx // num_cols\n",
    "    col = idx % num_cols\n",
    "    sns.histplot(data=train_df, x=column, ax=axes[row, col], bins=30, kde=True)\n",
    "    axes[row, col].set_title(f\"Distribution of {column}\")\n",
    "\n",
    "# Remove any empty subplots\n",
    "for idx in range(len(column_list), num_rows * num_cols):\n",
    "    fig.delaxes(axes.flatten()[idx])\n",
    "\n",
    "plt.show()\n"
   ]
  },
  {
   "cell_type": "code",
   "execution_count": 12,
   "id": "b03b4ba6",
   "metadata": {
    "execution": {
     "iopub.execute_input": "2023-10-14T22:20:42.051202Z",
     "iopub.status.busy": "2023-10-14T22:20:42.050892Z",
     "iopub.status.idle": "2023-10-14T22:20:45.666278Z",
     "shell.execute_reply": "2023-10-14T22:20:45.665092Z"
    },
    "papermill": {
     "duration": 3.627871,
     "end_time": "2023-10-14T22:20:45.668197",
     "exception": false,
     "start_time": "2023-10-14T22:20:42.040326",
     "status": "completed"
    },
    "tags": []
   },
   "outputs": [
    {
     "data": {
      "image/png": "[encoded data removed]",
      "text/plain": [
       "<Figure size 3000x3000 with 3 Axes>"
      ]
     },
     "metadata": {},
     "output_type": "display_data"
    }
   ],
   "source": [
    "\n",
    "# Univariate analysis\n",
    "\n",
    "#Countplots for each of the categorical columns\n",
    "column_list = categorical_columns_train\n",
    "\n",
    "#Calculate number of rows and cols based on list length\n",
    "num_rows = len(column_list) // 2 + (len(column_list) % 2 >0)\n",
    "num_cols = 2\n",
    "\n",
    "# Create subplots\n",
    "fig, axes = plt.subplots(num_rows, num_cols, figsize=(30,30))\n",
    "\n",
    "# Plot each column in a loop\n",
    "for idx, column in enumerate(column_list):\n",
    "    row = idx // num_cols\n",
    "    col = idx % num_cols\n",
    "    sns.countplot(x=train_df[column], ax=axes[row, col])\n",
    "    axes[row, col].set_title(f\"{column} count\")\n",
    "\n",
    "# Remove any empty suplots\n",
    "for idx in range(len(column_list), num_rows * num_cols):\n",
    "    fig.delaxes(axes.flatten()[idx])\n",
    "\n",
    "\n",
    "plt.show()"
   ]
  },
  {
   "cell_type": "code",
   "execution_count": 13,
   "id": "8fe9cb78",
   "metadata": {
    "execution": {
     "iopub.execute_input": "2023-10-14T22:20:45.747461Z",
     "iopub.status.busy": "2023-10-14T22:20:45.746826Z",
     "iopub.status.idle": "2023-10-14T22:20:45.757261Z",
     "shell.execute_reply": "2023-10-14T22:20:45.756399Z"
    },
    "papermill": {
     "duration": 0.02448,
     "end_time": "2023-10-14T22:20:45.760024",
     "exception": false,
     "start_time": "2023-10-14T22:20:45.735544",
     "status": "completed"
    },
    "tags": []
   },
   "outputs": [
    {
     "data": {
      "text/plain": [
       "PassengerId      0\n",
       "Survived         0\n",
       "Pclass           0\n",
       "Sex              0\n",
       "Age            177\n",
       "SibSp            0\n",
       "Parch            0\n",
       "Ticket           0\n",
       "Fare             0\n",
       "Embarked         2\n",
       "dtype: int64"
      ]
     },
     "execution_count": 13,
     "metadata": {},
     "output_type": "execute_result"
    }
   ],
   "source": [
    "train_df.isnull().sum()"
   ]
  },
  {
   "cell_type": "raw",
   "id": "c430e749",
   "metadata": {
    "execution": {
     "iopub.execute_input": "2023-10-14T20:41:27.857518Z",
     "iopub.status.busy": "2023-10-14T20:41:27.857065Z",
     "iopub.status.idle": "2023-10-14T20:41:27.883679Z",
     "shell.execute_reply": "2023-10-14T20:41:27.882443Z",
     "shell.execute_reply.started": "2023-10-14T20:41:27.857481Z"
    },
    "papermill": {
     "duration": 0.01047,
     "end_time": "2023-10-14T22:20:45.782108",
     "exception": false,
     "start_time": "2023-10-14T22:20:45.771638",
     "status": "completed"
    },
    "tags": []
   },
   "source": []
  },
  {
   "cell_type": "code",
   "execution_count": 14,
   "id": "885ad8ee",
   "metadata": {
    "execution": {
     "iopub.execute_input": "2023-10-14T22:20:45.803804Z",
     "iopub.status.busy": "2023-10-14T22:20:45.802310Z",
     "iopub.status.idle": "2023-10-14T22:20:45.819261Z",
     "shell.execute_reply": "2023-10-14T22:20:45.818718Z"
    },
    "papermill": {
     "duration": 0.028948,
     "end_time": "2023-10-14T22:20:45.820702",
     "exception": false,
     "start_time": "2023-10-14T22:20:45.791754",
     "status": "completed"
    },
    "tags": []
   },
   "outputs": [
    {
     "data": {
      "text/plain": [
       "PassengerId    0\n",
       "Pclass         0\n",
       "Sex            0\n",
       "Age            0\n",
       "SibSp          0\n",
       "Parch          0\n",
       "Ticket         0\n",
       "Fare           0\n",
       "Embarked       0\n",
       "dtype: int64"
      ]
     },
     "execution_count": 14,
     "metadata": {},
     "output_type": "execute_result"
    }
   ],
   "source": [
    "train_df['Age'].fillna(train_df['Age'].median(), inplace=True)\n",
    "train_df.dropna(subset=['Embarked'], inplace=True)\n",
    "train_df.isnull().sum()\n",
    "\n",
    "test_df['Age'].fillna(train_df['Age'].median(), inplace=True)\n",
    "test_df.dropna(subset=['Embarked'], inplace=True)\n",
    "test_df['Fare'].fillna(test_df['Fare'].mean(), inplace=True)\n",
    "test_df.isnull().sum()"
   ]
  },
  {
   "cell_type": "code",
   "execution_count": 15,
   "id": "cafa67be",
   "metadata": {
    "execution": {
     "iopub.execute_input": "2023-10-14T22:20:45.841435Z",
     "iopub.status.busy": "2023-10-14T22:20:45.840466Z",
     "iopub.status.idle": "2023-10-14T22:20:46.106450Z",
     "shell.execute_reply": "2023-10-14T22:20:46.105775Z"
    },
    "papermill": {
     "duration": 0.278421,
     "end_time": "2023-10-14T22:20:46.108143",
     "exception": false,
     "start_time": "2023-10-14T22:20:45.829722",
     "status": "completed"
    },
    "tags": []
   },
   "outputs": [
    {
     "data": {
      "text/plain": [
       "<Axes: >"
      ]
     },
     "execution_count": 15,
     "metadata": {},
     "output_type": "execute_result"
    },
    {
     "data": {
      "image/png": "[encoded data removed]",
      "text/plain": [
       "<Figure size 1300x1000 with 2 Axes>"
      ]
     },
     "metadata": {},
     "output_type": "display_data"
    }
   ],
   "source": [
    "# Using a correlation matrix\n",
    "corr_mat = train_df.corr(numeric_only=True)\n",
    "\n",
    "f, ax = plt.subplots(figsize=(13, 10))\n",
    "sns.heatmap(corr_mat, vmax=.8, square=True)\n"
   ]
  },
  {
   "cell_type": "code",
   "execution_count": 16,
   "id": "73cc5329",
   "metadata": {
    "execution": {
     "iopub.execute_input": "2023-10-14T22:20:46.134382Z",
     "iopub.status.busy": "2023-10-14T22:20:46.133402Z",
     "iopub.status.idle": "2023-10-14T22:20:46.144505Z",
     "shell.execute_reply": "2023-10-14T22:20:46.143644Z"
    },
    "papermill": {
     "duration": 0.026288,
     "end_time": "2023-10-14T22:20:46.146477",
     "exception": false,
     "start_time": "2023-10-14T22:20:46.120189",
     "status": "completed"
    },
    "tags": []
   },
   "outputs": [
    {
     "data": {
      "text/html": [
       "<div>\n",
       "<style scoped>\n",
       "    .dataframe tbody tr th:only-of-type {\n",
       "        vertical-align: middle;\n",
       "    }\n",
       "\n",
       "    .dataframe tbody tr th {\n",
       "        vertical-align: top;\n",
       "    }\n",
       "\n",
       "    .dataframe thead th {\n",
       "        text-align: right;\n",
       "    }\n",
       "</style>\n",
       "<table border=\"1\" class=\"dataframe\">\n",
       "  <thead>\n",
       "    <tr style=\"text-align: right;\">\n",
       "      <th></th>\n",
       "      <th>PassengerId</th>\n",
       "      <th>Survived</th>\n",
       "      <th>Pclass</th>\n",
       "      <th>Sex</th>\n",
       "      <th>Age</th>\n",
       "      <th>SibSp</th>\n",
       "      <th>Parch</th>\n",
       "      <th>Ticket</th>\n",
       "      <th>Fare</th>\n",
       "      <th>Embarked</th>\n",
       "    </tr>\n",
       "  </thead>\n",
       "  <tbody>\n",
       "    <tr>\n",
       "      <th>0</th>\n",
       "      <td>1</td>\n",
       "      <td>0</td>\n",
       "      <td>3</td>\n",
       "      <td>male</td>\n",
       "      <td>22.0</td>\n",
       "      <td>1</td>\n",
       "      <td>0</td>\n",
       "      <td>A/5 21171</td>\n",
       "      <td>7.2500</td>\n",
       "      <td>S</td>\n",
       "    </tr>\n",
       "    <tr>\n",
       "      <th>1</th>\n",
       "      <td>2</td>\n",
       "      <td>1</td>\n",
       "      <td>1</td>\n",
       "      <td>female</td>\n",
       "      <td>38.0</td>\n",
       "      <td>1</td>\n",
       "      <td>0</td>\n",
       "      <td>PC 17599</td>\n",
       "      <td>71.2833</td>\n",
       "      <td>C</td>\n",
       "    </tr>\n",
       "    <tr>\n",
       "      <th>2</th>\n",
       "      <td>3</td>\n",
       "      <td>1</td>\n",
       "      <td>3</td>\n",
       "      <td>female</td>\n",
       "      <td>26.0</td>\n",
       "      <td>0</td>\n",
       "      <td>0</td>\n",
       "      <td>STON/O2. 3101282</td>\n",
       "      <td>7.9250</td>\n",
       "      <td>S</td>\n",
       "    </tr>\n",
       "    <tr>\n",
       "      <th>3</th>\n",
       "      <td>4</td>\n",
       "      <td>1</td>\n",
       "      <td>1</td>\n",
       "      <td>female</td>\n",
       "      <td>35.0</td>\n",
       "      <td>1</td>\n",
       "      <td>0</td>\n",
       "      <td>113803</td>\n",
       "      <td>53.1000</td>\n",
       "      <td>S</td>\n",
       "    </tr>\n",
       "    <tr>\n",
       "      <th>4</th>\n",
       "      <td>5</td>\n",
       "      <td>0</td>\n",
       "      <td>3</td>\n",
       "      <td>male</td>\n",
       "      <td>35.0</td>\n",
       "      <td>0</td>\n",
       "      <td>0</td>\n",
       "      <td>373450</td>\n",
       "      <td>8.0500</td>\n",
       "      <td>S</td>\n",
       "    </tr>\n",
       "  </tbody>\n",
       "</table>\n",
       "</div>"
      ],
      "text/plain": [
       "   PassengerId  Survived  Pclass     Sex   Age  SibSp  Parch  \\\n",
       "0            1         0       3    male  22.0      1      0   \n",
       "1            2         1       1  female  38.0      1      0   \n",
       "2            3         1       3  female  26.0      0      0   \n",
       "3            4         1       1  female  35.0      1      0   \n",
       "4            5         0       3    male  35.0      0      0   \n",
       "\n",
       "             Ticket     Fare Embarked  \n",
       "0         A/5 21171   7.2500        S  \n",
       "1          PC 17599  71.2833        C  \n",
       "2  STON/O2. 3101282   7.9250        S  \n",
       "3            113803  53.1000        S  \n",
       "4            373450   8.0500        S  "
      ]
     },
     "execution_count": 16,
     "metadata": {},
     "output_type": "execute_result"
    }
   ],
   "source": [
    "train_df.head()"
   ]
  },
  {
   "cell_type": "code",
   "execution_count": null,
   "id": "19d72dec",
   "metadata": {
    "papermill": {
     "duration": 0.012326,
     "end_time": "2023-10-14T22:20:46.171188",
     "exception": false,
     "start_time": "2023-10-14T22:20:46.158862",
     "status": "completed"
    },
    "tags": []
   },
   "outputs": [],
   "source": []
  },
  {
   "cell_type": "code",
   "execution_count": 17,
   "id": "7ca7c1d6",
   "metadata": {
    "execution": {
     "iopub.execute_input": "2023-10-14T22:20:46.192098Z",
     "iopub.status.busy": "2023-10-14T22:20:46.191101Z",
     "iopub.status.idle": "2023-10-14T22:20:46.203319Z",
     "shell.execute_reply": "2023-10-14T22:20:46.202440Z"
    },
    "papermill": {
     "duration": 0.02498,
     "end_time": "2023-10-14T22:20:46.205655",
     "exception": false,
     "start_time": "2023-10-14T22:20:46.180675",
     "status": "completed"
    },
    "tags": []
   },
   "outputs": [
    {
     "data": {
      "text/html": [
       "<div>\n",
       "<style scoped>\n",
       "    .dataframe tbody tr th:only-of-type {\n",
       "        vertical-align: middle;\n",
       "    }\n",
       "\n",
       "    .dataframe tbody tr th {\n",
       "        vertical-align: top;\n",
       "    }\n",
       "\n",
       "    .dataframe thead th {\n",
       "        text-align: right;\n",
       "    }\n",
       "</style>\n",
       "<table border=\"1\" class=\"dataframe\">\n",
       "  <thead>\n",
       "    <tr style=\"text-align: right;\">\n",
       "      <th></th>\n",
       "      <th>PassengerId</th>\n",
       "      <th>Survived</th>\n",
       "      <th>Pclass</th>\n",
       "      <th>Sex</th>\n",
       "      <th>Age</th>\n",
       "      <th>SibSp</th>\n",
       "      <th>Parch</th>\n",
       "      <th>Ticket</th>\n",
       "      <th>Fare</th>\n",
       "      <th>Embarked</th>\n",
       "    </tr>\n",
       "  </thead>\n",
       "  <tbody>\n",
       "    <tr>\n",
       "      <th>0</th>\n",
       "      <td>1</td>\n",
       "      <td>0</td>\n",
       "      <td>3</td>\n",
       "      <td>male</td>\n",
       "      <td>22.0</td>\n",
       "      <td>1</td>\n",
       "      <td>0</td>\n",
       "      <td>A/5 21171</td>\n",
       "      <td>7.2500</td>\n",
       "      <td>S</td>\n",
       "    </tr>\n",
       "    <tr>\n",
       "      <th>1</th>\n",
       "      <td>2</td>\n",
       "      <td>1</td>\n",
       "      <td>1</td>\n",
       "      <td>female</td>\n",
       "      <td>38.0</td>\n",
       "      <td>1</td>\n",
       "      <td>0</td>\n",
       "      <td>PC 17599</td>\n",
       "      <td>71.2833</td>\n",
       "      <td>C</td>\n",
       "    </tr>\n",
       "    <tr>\n",
       "      <th>2</th>\n",
       "      <td>3</td>\n",
       "      <td>1</td>\n",
       "      <td>3</td>\n",
       "      <td>female</td>\n",
       "      <td>26.0</td>\n",
       "      <td>0</td>\n",
       "      <td>0</td>\n",
       "      <td>STON/O2. 3101282</td>\n",
       "      <td>7.9250</td>\n",
       "      <td>S</td>\n",
       "    </tr>\n",
       "    <tr>\n",
       "      <th>3</th>\n",
       "      <td>4</td>\n",
       "      <td>1</td>\n",
       "      <td>1</td>\n",
       "      <td>female</td>\n",
       "      <td>35.0</td>\n",
       "      <td>1</td>\n",
       "      <td>0</td>\n",
       "      <td>113803</td>\n",
       "      <td>53.1000</td>\n",
       "      <td>S</td>\n",
       "    </tr>\n",
       "    <tr>\n",
       "      <th>4</th>\n",
       "      <td>5</td>\n",
       "      <td>0</td>\n",
       "      <td>3</td>\n",
       "      <td>male</td>\n",
       "      <td>35.0</td>\n",
       "      <td>0</td>\n",
       "      <td>0</td>\n",
       "      <td>373450</td>\n",
       "      <td>8.0500</td>\n",
       "      <td>S</td>\n",
       "    </tr>\n",
       "  </tbody>\n",
       "</table>\n",
       "</div>"
      ],
      "text/plain": [
       "   PassengerId  Survived  Pclass     Sex   Age  SibSp  Parch  \\\n",
       "0            1         0       3    male  22.0      1      0   \n",
       "1            2         1       1  female  38.0      1      0   \n",
       "2            3         1       3  female  26.0      0      0   \n",
       "3            4         1       1  female  35.0      1      0   \n",
       "4            5         0       3    male  35.0      0      0   \n",
       "\n",
       "             Ticket     Fare Embarked  \n",
       "0         A/5 21171   7.2500        S  \n",
       "1          PC 17599  71.2833        C  \n",
       "2  STON/O2. 3101282   7.9250        S  \n",
       "3            113803  53.1000        S  \n",
       "4            373450   8.0500        S  "
      ]
     },
     "execution_count": 17,
     "metadata": {},
     "output_type": "execute_result"
    }
   ],
   "source": [
    "train_df.head()"
   ]
  },
  {
   "cell_type": "code",
   "execution_count": 18,
   "id": "71e61e16",
   "metadata": {
    "execution": {
     "iopub.execute_input": "2023-10-14T22:20:46.227611Z",
     "iopub.status.busy": "2023-10-14T22:20:46.227153Z",
     "iopub.status.idle": "2023-10-14T22:20:46.234236Z",
     "shell.execute_reply": "2023-10-14T22:20:46.233499Z"
    },
    "papermill": {
     "duration": 0.019446,
     "end_time": "2023-10-14T22:20:46.235571",
     "exception": false,
     "start_time": "2023-10-14T22:20:46.216125",
     "status": "completed"
    },
    "tags": []
   },
   "outputs": [
    {
     "data": {
      "text/plain": [
       "PassengerId    False\n",
       "Survived       False\n",
       "Pclass         False\n",
       "Sex            False\n",
       "Age            False\n",
       "SibSp          False\n",
       "Parch          False\n",
       "Ticket         False\n",
       "Fare           False\n",
       "Embarked       False\n",
       "dtype: bool"
      ]
     },
     "execution_count": 18,
     "metadata": {},
     "output_type": "execute_result"
    }
   ],
   "source": [
    "train_df.isna().any()"
   ]
  },
  {
   "cell_type": "code",
   "execution_count": 19,
   "id": "16db5e66",
   "metadata": {
    "execution": {
     "iopub.execute_input": "2023-10-14T22:20:46.256639Z",
     "iopub.status.busy": "2023-10-14T22:20:46.256303Z",
     "iopub.status.idle": "2023-10-14T22:20:46.432406Z",
     "shell.execute_reply": "2023-10-14T22:20:46.431859Z"
    },
    "papermill": {
     "duration": 0.188573,
     "end_time": "2023-10-14T22:20:46.433925",
     "exception": false,
     "start_time": "2023-10-14T22:20:46.245352",
     "status": "completed"
    },
    "tags": []
   },
   "outputs": [
    {
     "data": {
      "image/png": "[encoded data removed]",
      "text/plain": [
       "<Figure size 1000x600 with 1 Axes>"
      ]
     },
     "metadata": {},
     "output_type": "display_data"
    }
   ],
   "source": [
    "# Filter out non-numeric columns \n",
    "numeric_columns = train_df.select_dtypes(include=['number'])\n",
    "\n",
    "# Calculate the correlation with the target\n",
    "corr_with_target = numeric_columns.corrwith(train_df['Survived']).sort_values(ascending=False)\n",
    "\n",
    "# Set up the matplotlib figure\n",
    "plt.figure(figsize=(10, 6))\n",
    "\n",
    "# Create a bar plot of the correlation values\n",
    "sns.barplot(x=corr_with_target, y=corr_with_target.index)\n",
    "\n",
    "# Add labels\n",
    "plt.xlabel('Correlation with Target')\n",
    "plt.ylabel('Features')\n",
    "plt.title('Correlation of Features with Target')\n",
    "plt.show()\n",
    "\n"
   ]
  },
  {
   "cell_type": "code",
   "execution_count": 20,
   "id": "94107512",
   "metadata": {
    "execution": {
     "iopub.execute_input": "2023-10-14T22:20:46.459781Z",
     "iopub.status.busy": "2023-10-14T22:20:46.459490Z",
     "iopub.status.idle": "2023-10-14T22:20:46.633233Z",
     "shell.execute_reply": "2023-10-14T22:20:46.631886Z"
    },
    "papermill": {
     "duration": 0.188961,
     "end_time": "2023-10-14T22:20:46.635194",
     "exception": false,
     "start_time": "2023-10-14T22:20:46.446233",
     "status": "completed"
    },
    "tags": []
   },
   "outputs": [],
   "source": [
    "from sklearn.preprocessing import OrdinalEncoder"
   ]
  },
  {
   "cell_type": "code",
   "execution_count": null,
   "id": "a43e55c2",
   "metadata": {
    "papermill": {
     "duration": 0.010905,
     "end_time": "2023-10-14T22:20:46.656660",
     "exception": false,
     "start_time": "2023-10-14T22:20:46.645755",
     "status": "completed"
    },
    "tags": []
   },
   "outputs": [],
   "source": []
  },
  {
   "cell_type": "code",
   "execution_count": 21,
   "id": "894dcdae",
   "metadata": {
    "execution": {
     "iopub.execute_input": "2023-10-14T22:20:46.678543Z",
     "iopub.status.busy": "2023-10-14T22:20:46.678233Z",
     "iopub.status.idle": "2023-10-14T22:20:46.693859Z",
     "shell.execute_reply": "2023-10-14T22:20:46.692890Z"
    },
    "papermill": {
     "duration": 0.028942,
     "end_time": "2023-10-14T22:20:46.695946",
     "exception": false,
     "start_time": "2023-10-14T22:20:46.667004",
     "status": "completed"
    },
    "tags": []
   },
   "outputs": [],
   "source": [
    "# List of features to encode\n",
    "features = ['Sex', 'Ticket', 'Embarked']\n",
    "\n",
    "# Store the original column names for train and test\n",
    "original_column_names_train = train_df[features].columns.tolist()\n",
    "original_column_names_test = test_df[features].columns.tolist()\n",
    "\n",
    "# Init ordinal encoders\n",
    "encoder_trn = OrdinalEncoder()\n",
    "encoder_tst = OrdinalEncoder()\n",
    "\n",
    "# Fit and transform the encoder on the train and test data\n",
    "train_df_encoded = pd.DataFrame(encoder_trn.fit_transform(train_df[features]),\n",
    "                                columns=original_column_names_train)\n",
    "\n",
    "test_df_encoded = pd.DataFrame(encoder_tst.fit_transform(test_df[features]),\n",
    "                               columns=original_column_names_test)\n",
    "\n",
    "# Reset index for the original and encoded Dataframes\n",
    "train_df.reset_index(drop=True, inplace=True)\n",
    "train_df_encoded.reset_index(drop=True, inplace=True)\n",
    "\n",
    "test_df.reset_index(drop=True, inplace=True)\n",
    "test_df_encoded.reset_index(drop=True, inplace=True)\n",
    "\n",
    "# Concatenate encoded Dataframrd with originals\n",
    "train_df_final = pd.concat([train_df.drop(columns=features), train_df_encoded], axis=1)\n",
    "test_df_final = pd.concat([test_df.drop(columns=features), test_df_encoded], axis=1)"
   ]
  },
  {
   "cell_type": "code",
   "execution_count": 22,
   "id": "f847fa4e",
   "metadata": {
    "execution": {
     "iopub.execute_input": "2023-10-14T22:20:46.718774Z",
     "iopub.status.busy": "2023-10-14T22:20:46.717827Z",
     "iopub.status.idle": "2023-10-14T22:20:46.731911Z",
     "shell.execute_reply": "2023-10-14T22:20:46.730264Z"
    },
    "papermill": {
     "duration": 0.02759,
     "end_time": "2023-10-14T22:20:46.733937",
     "exception": false,
     "start_time": "2023-10-14T22:20:46.706347",
     "status": "completed"
    },
    "tags": []
   },
   "outputs": [
    {
     "name": "stdout",
     "output_type": "stream",
     "text": [
      "Original DataFrame:\n",
      "     PassengerId  Survived  Pclass     Sex   Age  SibSp  Parch  \\\n",
      "0              1         0       3    male  22.0      1      0   \n",
      "1              2         1       1  female  38.0      1      0   \n",
      "2              3         1       3  female  26.0      0      0   \n",
      "3              4         1       1  female  35.0      1      0   \n",
      "4              5         0       3    male  35.0      0      0   \n",
      "..           ...       ...     ...     ...   ...    ...    ...   \n",
      "884          887         0       2    male  27.0      0      0   \n",
      "885          888         1       1  female  19.0      0      0   \n",
      "886          889         0       3  female  28.0      1      2   \n",
      "887          890         1       1    male  26.0      0      0   \n",
      "888          891         0       3    male  32.0      0      0   \n",
      "\n",
      "               Ticket     Fare Embarked  \n",
      "0           A/5 21171   7.2500        S  \n",
      "1            PC 17599  71.2833        C  \n",
      "2    STON/O2. 3101282   7.9250        S  \n",
      "3              113803  53.1000        S  \n",
      "4              373450   8.0500        S  \n",
      "..                ...      ...      ...  \n",
      "884            211536  13.0000        S  \n",
      "885            112053  30.0000        S  \n",
      "886        W./C. 6607  23.4500        S  \n",
      "887            111369  30.0000        C  \n",
      "888            370376   7.7500        Q  \n",
      "\n",
      "[889 rows x 10 columns]\n",
      "\n",
      "DataFrame after ordinal encoding:\n",
      "     PassengerId  Survived  Pclass   Age  SibSp  Parch     Fare  Sex  Ticket  \\\n",
      "0              1         0       3  22.0      1      0   7.2500  1.0   522.0   \n",
      "1              2         1       1  38.0      1      0  71.2833  0.0   595.0   \n",
      "2              3         1       3  26.0      0      0   7.9250  0.0   668.0   \n",
      "3              4         1       1  35.0      1      0  53.1000  0.0    48.0   \n",
      "4              5         0       3  35.0      0      0   8.0500  1.0   471.0   \n",
      "..           ...       ...     ...   ...    ...    ...      ...  ...     ...   \n",
      "884          887         0       2  27.0      0      0  13.0000  1.0   100.0   \n",
      "885          888         1       1  19.0      0      0  30.0000  0.0    14.0   \n",
      "886          889         0       3  28.0      1      2  23.4500  0.0   674.0   \n",
      "887          890         1       1  26.0      0      0  30.0000  1.0     8.0   \n",
      "888          891         0       3  32.0      0      0   7.7500  1.0   465.0   \n",
      "\n",
      "     Embarked  \n",
      "0         2.0  \n",
      "1         0.0  \n",
      "2         2.0  \n",
      "3         2.0  \n",
      "4         2.0  \n",
      "..        ...  \n",
      "884       2.0  \n",
      "885       2.0  \n",
      "886       2.0  \n",
      "887       0.0  \n",
      "888       1.0  \n",
      "\n",
      "[889 rows x 10 columns]\n"
     ]
    }
   ],
   "source": [
    "print(\"Original DataFrame:\")\n",
    "print(train_df)\n",
    "print(\"\\nDataFrame after ordinal encoding:\")\n",
    "print(train_df_final)\n"
   ]
  },
  {
   "cell_type": "code",
   "execution_count": null,
   "id": "be1f535b",
   "metadata": {
    "papermill": {
     "duration": 0.01034,
     "end_time": "2023-10-14T22:20:46.754659",
     "exception": false,
     "start_time": "2023-10-14T22:20:46.744319",
     "status": "completed"
    },
    "tags": []
   },
   "outputs": [],
   "source": []
  },
  {
   "cell_type": "code",
   "execution_count": 23,
   "id": "d2f24b45",
   "metadata": {
    "execution": {
     "iopub.execute_input": "2023-10-14T22:20:46.776301Z",
     "iopub.status.busy": "2023-10-14T22:20:46.775931Z",
     "iopub.status.idle": "2023-10-14T22:20:46.794394Z",
     "shell.execute_reply": "2023-10-14T22:20:46.793338Z"
    },
    "papermill": {
     "duration": 0.031142,
     "end_time": "2023-10-14T22:20:46.795998",
     "exception": false,
     "start_time": "2023-10-14T22:20:46.764856",
     "status": "completed"
    },
    "tags": []
   },
   "outputs": [
    {
     "name": "stdout",
     "output_type": "stream",
     "text": [
      "<class 'pandas.core.frame.DataFrame'>\n",
      "RangeIndex: 889 entries, 0 to 888\n",
      "Data columns (total 10 columns):\n",
      " #   Column       Non-Null Count  Dtype  \n",
      "---  ------       --------------  -----  \n",
      " 0   PassengerId  889 non-null    int64  \n",
      " 1   Survived     889 non-null    int64  \n",
      " 2   Pclass       889 non-null    int64  \n",
      " 3   Sex          889 non-null    object \n",
      " 4   Age          889 non-null    float64\n",
      " 5   SibSp        889 non-null    int64  \n",
      " 6   Parch        889 non-null    int64  \n",
      " 7   Ticket       889 non-null    object \n",
      " 8   Fare         889 non-null    float64\n",
      " 9   Embarked     889 non-null    object \n",
      "dtypes: float64(2), int64(5), object(3)\n",
      "memory usage: 69.6+ KB\n"
     ]
    }
   ],
   "source": [
    "train_df.info()"
   ]
  },
  {
   "cell_type": "code",
   "execution_count": 24,
   "id": "213526c9",
   "metadata": {
    "execution": {
     "iopub.execute_input": "2023-10-14T22:20:46.818071Z",
     "iopub.status.busy": "2023-10-14T22:20:46.817537Z",
     "iopub.status.idle": "2023-10-14T22:20:46.821180Z",
     "shell.execute_reply": "2023-10-14T22:20:46.820270Z"
    },
    "papermill": {
     "duration": 0.016765,
     "end_time": "2023-10-14T22:20:46.823052",
     "exception": false,
     "start_time": "2023-10-14T22:20:46.806287",
     "status": "completed"
    },
    "tags": []
   },
   "outputs": [],
   "source": [
    "num_cols = ['Age', 'Ticket', 'Fare']"
   ]
  },
  {
   "cell_type": "code",
   "execution_count": 25,
   "id": "c73004c0",
   "metadata": {
    "execution": {
     "iopub.execute_input": "2023-10-14T22:20:46.846777Z",
     "iopub.status.busy": "2023-10-14T22:20:46.846232Z",
     "iopub.status.idle": "2023-10-14T22:20:46.856967Z",
     "shell.execute_reply": "2023-10-14T22:20:46.856270Z"
    },
    "papermill": {
     "duration": 0.025362,
     "end_time": "2023-10-14T22:20:46.858912",
     "exception": false,
     "start_time": "2023-10-14T22:20:46.833550",
     "status": "completed"
    },
    "tags": []
   },
   "outputs": [],
   "source": [
    "from sklearn.preprocessing import StandardScaler\n",
    "scaler = StandardScaler()\n",
    "train_df_final[num_cols] = scaler.fit_transform(train_df_final[num_cols])\n",
    "test_df_final[num_cols] = scaler.transform(test_df_final[num_cols])"
   ]
  },
  {
   "cell_type": "code",
   "execution_count": 26,
   "id": "aeaa5570",
   "metadata": {
    "execution": {
     "iopub.execute_input": "2023-10-14T22:20:46.881774Z",
     "iopub.status.busy": "2023-10-14T22:20:46.880976Z",
     "iopub.status.idle": "2023-10-14T22:20:46.889777Z",
     "shell.execute_reply": "2023-10-14T22:20:46.889037Z"
    },
    "papermill": {
     "duration": 0.022394,
     "end_time": "2023-10-14T22:20:46.891863",
     "exception": false,
     "start_time": "2023-10-14T22:20:46.869469",
     "status": "completed"
    },
    "tags": []
   },
   "outputs": [
    {
     "name": "stdout",
     "output_type": "stream",
     "text": [
      "0\n",
      "0\n",
      "0\n",
      "0\n",
      "0\n",
      "0\n",
      "0\n",
      "0\n",
      "0\n",
      "0\n",
      "0\n",
      "0\n",
      "0\n",
      "0\n",
      "0\n",
      "0\n",
      "0\n",
      "0\n"
     ]
    }
   ],
   "source": [
    "# Final check\n",
    "for col_train, col_test in zip(train_df_final.columns, test_df_final.columns):\n",
    "    print(train_df_final[col_train].isna().sum())\n",
    "    print(test_df_final[col_test].isna().sum())"
   ]
  },
  {
   "cell_type": "code",
   "execution_count": 27,
   "id": "e2790065",
   "metadata": {
    "execution": {
     "iopub.execute_input": "2023-10-14T22:20:46.915360Z",
     "iopub.status.busy": "2023-10-14T22:20:46.914992Z",
     "iopub.status.idle": "2023-10-14T22:20:46.923186Z",
     "shell.execute_reply": "2023-10-14T22:20:46.921900Z"
    },
    "papermill": {
     "duration": 0.022753,
     "end_time": "2023-10-14T22:20:46.925377",
     "exception": false,
     "start_time": "2023-10-14T22:20:46.902624",
     "status": "completed"
    },
    "tags": []
   },
   "outputs": [
    {
     "data": {
      "text/plain": [
       "PassengerId    0\n",
       "Pclass         0\n",
       "Sex            0\n",
       "Age            0\n",
       "SibSp          0\n",
       "Parch          0\n",
       "Ticket         0\n",
       "Fare           0\n",
       "Embarked       0\n",
       "dtype: int64"
      ]
     },
     "execution_count": 27,
     "metadata": {},
     "output_type": "execute_result"
    }
   ],
   "source": [
    "test_df.isnull().sum()\n"
   ]
  },
  {
   "cell_type": "markdown",
   "id": "d23fb3ab",
   "metadata": {
    "papermill": {
     "duration": 0.009607,
     "end_time": "2023-10-14T22:20:46.945757",
     "exception": false,
     "start_time": "2023-10-14T22:20:46.936150",
     "status": "completed"
    },
    "tags": []
   },
   "source": []
  },
  {
   "cell_type": "code",
   "execution_count": 28,
   "id": "79951c93",
   "metadata": {
    "execution": {
     "iopub.execute_input": "2023-10-14T22:20:46.967574Z",
     "iopub.status.busy": "2023-10-14T22:20:46.967201Z",
     "iopub.status.idle": "2023-10-14T22:20:46.972171Z",
     "shell.execute_reply": "2023-10-14T22:20:46.971176Z"
    },
    "papermill": {
     "duration": 0.018093,
     "end_time": "2023-10-14T22:20:46.973903",
     "exception": false,
     "start_time": "2023-10-14T22:20:46.955810",
     "status": "completed"
    },
    "tags": []
   },
   "outputs": [],
   "source": [
    "# Define our final features\n",
    "final_features = ['Age', 'Sex', 'Ticket', 'Embarked', 'Parch', 'Pclass', 'SibSp']"
   ]
  },
  {
   "cell_type": "code",
   "execution_count": 29,
   "id": "efd26344",
   "metadata": {
    "execution": {
     "iopub.execute_input": "2023-10-14T22:20:46.996681Z",
     "iopub.status.busy": "2023-10-14T22:20:46.996306Z",
     "iopub.status.idle": "2023-10-14T22:20:47.003110Z",
     "shell.execute_reply": "2023-10-14T22:20:47.001726Z"
    },
    "papermill": {
     "duration": 0.020362,
     "end_time": "2023-10-14T22:20:47.004996",
     "exception": false,
     "start_time": "2023-10-14T22:20:46.984634",
     "status": "completed"
    },
    "tags": []
   },
   "outputs": [],
   "source": [
    "X = train_df_final[final_features]\n",
    "y = train_df_final['Survived']"
   ]
  },
  {
   "cell_type": "code",
   "execution_count": 30,
   "id": "e5cad96b",
   "metadata": {
    "execution": {
     "iopub.execute_input": "2023-10-14T22:20:47.028032Z",
     "iopub.status.busy": "2023-10-14T22:20:47.027685Z",
     "iopub.status.idle": "2023-10-14T22:20:47.156889Z",
     "shell.execute_reply": "2023-10-14T22:20:47.155471Z"
    },
    "papermill": {
     "duration": 0.143161,
     "end_time": "2023-10-14T22:20:47.159177",
     "exception": false,
     "start_time": "2023-10-14T22:20:47.016016",
     "status": "completed"
    },
    "tags": []
   },
   "outputs": [],
   "source": [
    "from sklearn.model_selection import train_test_split\n",
    "X_train, X_val, y_train, y_val = train_test_split(X, y, test_size=0.2,random_state=1)"
   ]
  },
  {
   "cell_type": "code",
   "execution_count": 31,
   "id": "d5c92e06",
   "metadata": {
    "execution": {
     "iopub.execute_input": "2023-10-14T22:20:47.181468Z",
     "iopub.status.busy": "2023-10-14T22:20:47.181142Z",
     "iopub.status.idle": "2023-10-14T22:20:47.186075Z",
     "shell.execute_reply": "2023-10-14T22:20:47.184856Z"
    },
    "papermill": {
     "duration": 0.018375,
     "end_time": "2023-10-14T22:20:47.188175",
     "exception": false,
     "start_time": "2023-10-14T22:20:47.169800",
     "status": "completed"
    },
    "tags": []
   },
   "outputs": [
    {
     "name": "stdout",
     "output_type": "stream",
     "text": [
      "Train set set size: 711\n",
      "Validation set size: 178\n"
     ]
    }
   ],
   "source": [
    "# Print the size of the resulting sets\n",
    "print(f'Train set set size: {len(X_train)}')\n",
    "print(f'Validation set size: {len(X_val)}')"
   ]
  },
  {
   "cell_type": "code",
   "execution_count": 32,
   "id": "0accee9c",
   "metadata": {
    "execution": {
     "iopub.execute_input": "2023-10-14T22:20:47.211698Z",
     "iopub.status.busy": "2023-10-14T22:20:47.211355Z",
     "iopub.status.idle": "2023-10-14T22:20:49.864024Z",
     "shell.execute_reply": "2023-10-14T22:20:49.863101Z"
    },
    "papermill": {
     "duration": 2.666805,
     "end_time": "2023-10-14T22:20:49.866153",
     "exception": false,
     "start_time": "2023-10-14T22:20:47.199348",
     "status": "completed"
    },
    "tags": []
   },
   "outputs": [],
   "source": [
    "# import necessary dependencies\n",
    "from sklearn.linear_model import LogisticRegression\n",
    "from sklearn.svm import SVC\n",
    "from sklearn.naive_bayes import GaussianNB\n",
    "from sklearn.ensemble import RandomForestClassifier\n",
    "from sklearn.neighbors import KNeighborsClassifier\n",
    "from lightgbm import LGBMClassifier\n",
    "from xgboost import XGBClassifier\n",
    "\n",
    "\n",
    "from sklearn.metrics import accuracy_score\n",
    "from sklearn.model_selection import cross_val_score\n",
    "import optuna\n"
   ]
  },
  {
   "cell_type": "code",
   "execution_count": 33,
   "id": "0db63399",
   "metadata": {
    "execution": {
     "iopub.execute_input": "2023-10-14T22:20:49.888481Z",
     "iopub.status.busy": "2023-10-14T22:20:49.887880Z",
     "iopub.status.idle": "2023-10-14T22:21:26.837673Z",
     "shell.execute_reply": "2023-10-14T22:21:26.836155Z"
    },
    "papermill": {
     "duration": 36.963737,
     "end_time": "2023-10-14T22:21:26.840260",
     "exception": false,
     "start_time": "2023-10-14T22:20:49.876523",
     "status": "completed"
    },
    "tags": []
   },
   "outputs": [
    {
     "name": "stderr",
     "output_type": "stream",
     "text": [
      "[I 2023-10-14 22:20:50,065] A new study created in memory with name: no-name-a68acd9c-6372-48fa-9d1f-7d26cc3cd0ce\n",
      "[I 2023-10-14 22:20:50,126] Trial 0 finished with value: 0.8143307396828524 and parameters: {'model': 'SVC'}. Best is trial 0 with value: 0.8143307396828524.\n",
      "[I 2023-10-14 22:20:50,186] Trial 1 finished with value: 0.8143307396828524 and parameters: {'model': 'SVC'}. Best is trial 0 with value: 0.8143307396828524.\n",
      "[I 2023-10-14 22:20:50,242] Trial 2 finished with value: 0.7805279227814439 and parameters: {'model': 'KNeighborsClassifier'}. Best is trial 0 with value: 0.8143307396828524.\n"
     ]
    },
    {
     "name": "stdout",
     "output_type": "stream",
     "text": [
      "Best Hyperparameters (SVC): {'model': 'SVC'}\n",
      "Best Mean Accuracy (SVC): 0.8143307396828524\n",
      "\n",
      "\n",
      "Best Hyperparameters (SVC): {'model': 'SVC'}\n",
      "Best Mean Accuracy (SVC): 0.8143307396828524\n",
      "\n",
      "\n",
      "Best Hyperparameters (SVC): {'model': 'SVC'}\n",
      "Best Mean Accuracy (SVC): 0.8143307396828524\n",
      "\n",
      "\n"
     ]
    },
    {
     "name": "stderr",
     "output_type": "stream",
     "text": [
      "[I 2023-10-14 22:20:50,465] Trial 3 finished with value: 0.7946124298236974 and parameters: {'model': 'RandomForestClassifier', 'n_estimators': 31, 'max_depth': 13}. Best is trial 0 with value: 0.8143307396828524.\n"
     ]
    },
    {
     "name": "stdout",
     "output_type": "stream",
     "text": [
      "Best Hyperparameters (SVC): {'model': 'SVC'}\n",
      "Best Mean Accuracy (SVC): 0.8143307396828524\n",
      "\n",
      "\n"
     ]
    },
    {
     "name": "stderr",
     "output_type": "stream",
     "text": [
      "[I 2023-10-14 22:20:50,866] Trial 4 finished with value: 0.8002560819462229 and parameters: {'model': 'RandomForestClassifier', 'n_estimators': 60, 'max_depth': 16}. Best is trial 0 with value: 0.8143307396828524.\n",
      "[I 2023-10-14 22:20:50,888] Trial 5 finished with value: 0.7622771594602581 and parameters: {'model': 'GaussianNB'}. Best is trial 0 with value: 0.8143307396828524.\n"
     ]
    },
    {
     "name": "stdout",
     "output_type": "stream",
     "text": [
      "Best Hyperparameters (SVC): {'model': 'SVC'}\n",
      "Best Mean Accuracy (SVC): 0.8143307396828524\n",
      "\n",
      "\n",
      "Best Hyperparameters (SVC): {'model': 'SVC'}\n",
      "Best Mean Accuracy (SVC): 0.8143307396828524\n",
      "\n",
      "\n"
     ]
    },
    {
     "name": "stderr",
     "output_type": "stream",
     "text": [
      "[I 2023-10-14 22:20:51,435] Trial 6 finished with value: 0.819944843888506 and parameters: {'model': 'RandomForestClassifier', 'n_estimators': 88, 'max_depth': 8}. Best is trial 6 with value: 0.819944843888506.\n",
      "[I 2023-10-14 22:20:51,473] Trial 7 finished with value: 0.7875997242194426 and parameters: {'model': 'LogisticRegression'}. Best is trial 6 with value: 0.819944843888506.\n",
      "[I 2023-10-14 22:20:51,531] Trial 8 finished with value: 0.7805279227814439 and parameters: {'model': 'KNeighborsClassifier'}. Best is trial 6 with value: 0.819944843888506.\n",
      "[I 2023-10-14 22:20:51,584] Trial 9 finished with value: 0.7805279227814439 and parameters: {'model': 'KNeighborsClassifier'}. Best is trial 6 with value: 0.819944843888506.\n"
     ]
    },
    {
     "name": "stdout",
     "output_type": "stream",
     "text": [
      "Best Hyperparameters (RandomForestClassifier): {'model': 'RandomForestClassifier', 'n_estimators': 88, 'max_depth': 8}\n",
      "Best Mean Accuracy (RandomForestClassifier): 0.819944843888506\n",
      "\n",
      "\n",
      "Best Hyperparameters (RandomForestClassifier): {'model': 'RandomForestClassifier', 'n_estimators': 88, 'max_depth': 8}\n",
      "Best Mean Accuracy (RandomForestClassifier): 0.819944843888506\n",
      "\n",
      "\n",
      "Best Hyperparameters (RandomForestClassifier): {'model': 'RandomForestClassifier', 'n_estimators': 88, 'max_depth': 8}\n",
      "Best Mean Accuracy (RandomForestClassifier): 0.819944843888506\n",
      "\n",
      "\n",
      "Best Hyperparameters (RandomForestClassifier): {'model': 'RandomForestClassifier', 'n_estimators': 88, 'max_depth': 8}\n",
      "Best Mean Accuracy (RandomForestClassifier): 0.819944843888506\n",
      "\n",
      "\n"
     ]
    },
    {
     "name": "stderr",
     "output_type": "stream",
     "text": [
      "[I 2023-10-14 22:20:52,113] Trial 10 finished with value: 0.8016448340392002 and parameters: {'model': 'RandomForestClassifier', 'n_estimators': 97, 'max_depth': 2}. Best is trial 6 with value: 0.819944843888506.\n",
      "[I 2023-10-14 22:20:52,175] Trial 11 finished with value: 0.8143307396828524 and parameters: {'model': 'SVC'}. Best is trial 6 with value: 0.819944843888506.\n",
      "[I 2023-10-14 22:20:52,235] Trial 12 finished with value: 0.8143307396828524 and parameters: {'model': 'SVC'}. Best is trial 6 with value: 0.819944843888506.\n",
      "[I 2023-10-14 22:20:52,267] Trial 13 finished with value: 0.7875997242194426 and parameters: {'model': 'LogisticRegression'}. Best is trial 6 with value: 0.819944843888506.\n",
      "[I 2023-10-14 22:20:52,291] Trial 14 finished with value: 0.7622771594602581 and parameters: {'model': 'GaussianNB'}. Best is trial 6 with value: 0.819944843888506.\n"
     ]
    },
    {
     "name": "stdout",
     "output_type": "stream",
     "text": [
      "Best Hyperparameters (RandomForestClassifier): {'model': 'RandomForestClassifier', 'n_estimators': 88, 'max_depth': 8}\n",
      "Best Mean Accuracy (RandomForestClassifier): 0.819944843888506\n",
      "\n",
      "\n",
      "Best Hyperparameters (RandomForestClassifier): {'model': 'RandomForestClassifier', 'n_estimators': 88, 'max_depth': 8}\n",
      "Best Mean Accuracy (RandomForestClassifier): 0.819944843888506\n",
      "\n",
      "\n",
      "Best Hyperparameters (RandomForestClassifier): {'model': 'RandomForestClassifier', 'n_estimators': 88, 'max_depth': 8}\n",
      "Best Mean Accuracy (RandomForestClassifier): 0.819944843888506\n",
      "\n",
      "\n",
      "Best Hyperparameters (RandomForestClassifier): {'model': 'RandomForestClassifier', 'n_estimators': 88, 'max_depth': 8}\n",
      "Best Mean Accuracy (RandomForestClassifier): 0.819944843888506\n",
      "\n",
      "\n",
      "Best Hyperparameters (RandomForestClassifier): {'model': 'RandomForestClassifier', 'n_estimators': 88, 'max_depth': 8}\n",
      "Best Mean Accuracy (RandomForestClassifier): 0.819944843888506\n",
      "\n",
      "\n"
     ]
    },
    {
     "name": "stderr",
     "output_type": "stream",
     "text": [
      "[I 2023-10-14 22:20:52,352] Trial 15 finished with value: 0.8143307396828524 and parameters: {'model': 'SVC'}. Best is trial 6 with value: 0.819944843888506.\n"
     ]
    },
    {
     "name": "stdout",
     "output_type": "stream",
     "text": [
      "Best Hyperparameters (RandomForestClassifier): {'model': 'RandomForestClassifier', 'n_estimators': 88, 'max_depth': 8}\n",
      "Best Mean Accuracy (RandomForestClassifier): 0.819944843888506\n",
      "\n",
      "\n"
     ]
    },
    {
     "name": "stderr",
     "output_type": "stream",
     "text": [
      "[I 2023-10-14 22:20:52,938] Trial 16 finished with value: 0.8312124495223087 and parameters: {'model': 'RandomForestClassifier', 'n_estimators': 100, 'max_depth': 5}. Best is trial 16 with value: 0.8312124495223087.\n"
     ]
    },
    {
     "name": "stdout",
     "output_type": "stream",
     "text": [
      "Best Hyperparameters (RandomForestClassifier): {'model': 'RandomForestClassifier', 'n_estimators': 100, 'max_depth': 5}\n",
      "Best Mean Accuracy (RandomForestClassifier): 0.8312124495223087\n",
      "\n",
      "\n"
     ]
    },
    {
     "name": "stderr",
     "output_type": "stream",
     "text": [
      "[I 2023-10-14 22:20:53,521] Trial 17 finished with value: 0.8312124495223087 and parameters: {'model': 'RandomForestClassifier', 'n_estimators': 100, 'max_depth': 5}. Best is trial 16 with value: 0.8312124495223087.\n"
     ]
    },
    {
     "name": "stdout",
     "output_type": "stream",
     "text": [
      "Best Hyperparameters (RandomForestClassifier): {'model': 'RandomForestClassifier', 'n_estimators': 100, 'max_depth': 5}\n",
      "Best Mean Accuracy (RandomForestClassifier): 0.8312124495223087\n",
      "\n",
      "\n"
     ]
    },
    {
     "name": "stderr",
     "output_type": "stream",
     "text": [
      "[I 2023-10-14 22:20:54,106] Trial 18 finished with value: 0.8312124495223087 and parameters: {'model': 'RandomForestClassifier', 'n_estimators': 100, 'max_depth': 5}. Best is trial 16 with value: 0.8312124495223087.\n"
     ]
    },
    {
     "name": "stdout",
     "output_type": "stream",
     "text": [
      "Best Hyperparameters (RandomForestClassifier): {'model': 'RandomForestClassifier', 'n_estimators': 100, 'max_depth': 5}\n",
      "Best Mean Accuracy (RandomForestClassifier): 0.8312124495223087\n",
      "\n",
      "\n"
     ]
    },
    {
     "name": "stderr",
     "output_type": "stream",
     "text": [
      "[I 2023-10-14 22:20:54,558] Trial 19 finished with value: 0.8115138382744016 and parameters: {'model': 'RandomForestClassifier', 'n_estimators': 70, 'max_depth': 8}. Best is trial 16 with value: 0.8312124495223087.\n"
     ]
    },
    {
     "name": "stdout",
     "output_type": "stream",
     "text": [
      "Best Hyperparameters (RandomForestClassifier): {'model': 'RandomForestClassifier', 'n_estimators': 100, 'max_depth': 5}\n",
      "Best Mean Accuracy (RandomForestClassifier): 0.8312124495223087\n",
      "\n",
      "\n"
     ]
    },
    {
     "name": "stderr",
     "output_type": "stream",
     "text": [
      "[I 2023-10-14 22:20:54,994] Trial 20 finished with value: 0.7988279326307495 and parameters: {'model': 'RandomForestClassifier', 'n_estimators': 77, 'max_depth': 2}. Best is trial 16 with value: 0.8312124495223087.\n"
     ]
    },
    {
     "name": "stdout",
     "output_type": "stream",
     "text": [
      "Best Hyperparameters (RandomForestClassifier): {'model': 'RandomForestClassifier', 'n_estimators': 100, 'max_depth': 5}\n",
      "Best Mean Accuracy (RandomForestClassifier): 0.8312124495223087\n",
      "\n",
      "\n"
     ]
    },
    {
     "name": "stderr",
     "output_type": "stream",
     "text": [
      "[I 2023-10-14 22:20:55,599] Trial 21 finished with value: 0.8283955481138581 and parameters: {'model': 'RandomForestClassifier', 'n_estimators': 100, 'max_depth': 6}. Best is trial 16 with value: 0.8312124495223087.\n"
     ]
    },
    {
     "name": "stdout",
     "output_type": "stream",
     "text": [
      "Best Hyperparameters (RandomForestClassifier): {'model': 'RandomForestClassifier', 'n_estimators': 100, 'max_depth': 5}\n",
      "Best Mean Accuracy (RandomForestClassifier): 0.8312124495223087\n",
      "\n",
      "\n"
     ]
    },
    {
     "name": "stderr",
     "output_type": "stream",
     "text": [
      "[I 2023-10-14 22:20:56,197] Trial 22 finished with value: 0.8284053974194819 and parameters: {'model': 'RandomForestClassifier', 'n_estimators': 98, 'max_depth': 5}. Best is trial 16 with value: 0.8312124495223087.\n"
     ]
    },
    {
     "name": "stdout",
     "output_type": "stream",
     "text": [
      "Best Hyperparameters (RandomForestClassifier): {'model': 'RandomForestClassifier', 'n_estimators': 100, 'max_depth': 5}\n",
      "Best Mean Accuracy (RandomForestClassifier): 0.8312124495223087\n",
      "\n",
      "\n"
     ]
    },
    {
     "name": "stderr",
     "output_type": "stream",
     "text": [
      "[I 2023-10-14 22:20:56,443] Trial 23 finished with value: 0.8255687973997834 and parameters: {'model': 'RandomForestClassifier', 'n_estimators': 37, 'max_depth': 5}. Best is trial 16 with value: 0.8312124495223087.\n"
     ]
    },
    {
     "name": "stdout",
     "output_type": "stream",
     "text": [
      "Best Hyperparameters (RandomForestClassifier): {'model': 'RandomForestClassifier', 'n_estimators': 100, 'max_depth': 5}\n",
      "Best Mean Accuracy (RandomForestClassifier): 0.8312124495223087\n",
      "\n",
      "\n"
     ]
    },
    {
     "name": "stderr",
     "output_type": "stream",
     "text": [
      "[I 2023-10-14 22:20:56,990] Trial 24 finished with value: 0.812902590367379 and parameters: {'model': 'RandomForestClassifier', 'n_estimators': 83, 'max_depth': 10}. Best is trial 16 with value: 0.8312124495223087.\n",
      "[I 2023-10-14 22:20:57,012] Trial 25 finished with value: 0.7622771594602581 and parameters: {'model': 'GaussianNB'}. Best is trial 16 with value: 0.8312124495223087.\n",
      "[I 2023-10-14 22:20:57,054] Trial 26 finished with value: 0.7875997242194426 and parameters: {'model': 'LogisticRegression'}. Best is trial 16 with value: 0.8312124495223087.\n"
     ]
    },
    {
     "name": "stdout",
     "output_type": "stream",
     "text": [
      "Best Hyperparameters (RandomForestClassifier): {'model': 'RandomForestClassifier', 'n_estimators': 100, 'max_depth': 5}\n",
      "Best Mean Accuracy (RandomForestClassifier): 0.8312124495223087\n",
      "\n",
      "\n",
      "Best Hyperparameters (RandomForestClassifier): {'model': 'RandomForestClassifier', 'n_estimators': 100, 'max_depth': 5}\n",
      "Best Mean Accuracy (RandomForestClassifier): 0.8312124495223087\n",
      "\n",
      "\n",
      "Best Hyperparameters (RandomForestClassifier): {'model': 'RandomForestClassifier', 'n_estimators': 100, 'max_depth': 5}\n",
      "Best Mean Accuracy (RandomForestClassifier): 0.8312124495223087\n",
      "\n",
      "\n"
     ]
    },
    {
     "name": "stderr",
     "output_type": "stream",
     "text": [
      "[I 2023-10-14 22:20:57,626] Trial 27 finished with value: 0.8002462326405988 and parameters: {'model': 'RandomForestClassifier', 'n_estimators': 85, 'max_depth': 20}. Best is trial 16 with value: 0.8312124495223087.\n",
      "[I 2023-10-14 22:20:57,719] Trial 28 finished with value: 0.8044912833645228 and parameters: {'model': 'RandomForestClassifier', 'n_estimators': 10, 'max_depth': 4}. Best is trial 16 with value: 0.8312124495223087.\n"
     ]
    },
    {
     "name": "stdout",
     "output_type": "stream",
     "text": [
      "Best Hyperparameters (RandomForestClassifier): {'model': 'RandomForestClassifier', 'n_estimators': 100, 'max_depth': 5}\n",
      "Best Mean Accuracy (RandomForestClassifier): 0.8312124495223087\n",
      "\n",
      "\n",
      "Best Hyperparameters (RandomForestClassifier): {'model': 'RandomForestClassifier', 'n_estimators': 100, 'max_depth': 5}\n",
      "Best Mean Accuracy (RandomForestClassifier): 0.8312124495223087\n",
      "\n",
      "\n"
     ]
    },
    {
     "name": "stderr",
     "output_type": "stream",
     "text": [
      "[I 2023-10-14 22:20:58,337] Trial 29 finished with value: 0.8171279424800553 and parameters: {'model': 'RandomForestClassifier', 'n_estimators': 100, 'max_depth': 8}. Best is trial 16 with value: 0.8312124495223087.\n"
     ]
    },
    {
     "name": "stdout",
     "output_type": "stream",
     "text": [
      "Best Hyperparameters (RandomForestClassifier): {'model': 'RandomForestClassifier', 'n_estimators': 100, 'max_depth': 5}\n",
      "Best Mean Accuracy (RandomForestClassifier): 0.8312124495223087\n",
      "\n",
      "\n"
     ]
    },
    {
     "name": "stderr",
     "output_type": "stream",
     "text": [
      "[I 2023-10-14 22:20:58,738] Trial 30 finished with value: 0.8072786368561017 and parameters: {'model': 'RandomForestClassifier', 'n_estimators': 69, 'max_depth': 3}. Best is trial 16 with value: 0.8312124495223087.\n"
     ]
    },
    {
     "name": "stdout",
     "output_type": "stream",
     "text": [
      "Best Hyperparameters (RandomForestClassifier): {'model': 'RandomForestClassifier', 'n_estimators': 100, 'max_depth': 5}\n",
      "Best Mean Accuracy (RandomForestClassifier): 0.8312124495223087\n",
      "\n",
      "\n"
     ]
    },
    {
     "name": "stderr",
     "output_type": "stream",
     "text": [
      "[I 2023-10-14 22:20:59,315] Trial 31 finished with value: 0.8298039988180834 and parameters: {'model': 'RandomForestClassifier', 'n_estimators': 92, 'max_depth': 6}. Best is trial 16 with value: 0.8312124495223087.\n"
     ]
    },
    {
     "name": "stdout",
     "output_type": "stream",
     "text": [
      "Best Hyperparameters (RandomForestClassifier): {'model': 'RandomForestClassifier', 'n_estimators': 100, 'max_depth': 5}\n",
      "Best Mean Accuracy (RandomForestClassifier): 0.8312124495223087\n",
      "\n",
      "\n"
     ]
    },
    {
     "name": "stderr",
     "output_type": "stream",
     "text": [
      "[I 2023-10-14 22:20:59,876] Trial 32 finished with value: 0.8298039988180834 and parameters: {'model': 'RandomForestClassifier', 'n_estimators': 90, 'max_depth': 6}. Best is trial 16 with value: 0.8312124495223087.\n"
     ]
    },
    {
     "name": "stdout",
     "output_type": "stream",
     "text": [
      "Best Hyperparameters (RandomForestClassifier): {'model': 'RandomForestClassifier', 'n_estimators': 100, 'max_depth': 5}\n",
      "Best Mean Accuracy (RandomForestClassifier): 0.8312124495223087\n",
      "\n",
      "\n"
     ]
    },
    {
     "name": "stderr",
     "output_type": "stream",
     "text": [
      "[I 2023-10-14 22:21:00,441] Trial 33 finished with value: 0.8227617452969567 and parameters: {'model': 'RandomForestClassifier', 'n_estimators': 91, 'max_depth': 7}. Best is trial 16 with value: 0.8312124495223087.\n",
      "[I 2023-10-14 22:21:00,496] Trial 34 finished with value: 0.7805279227814439 and parameters: {'model': 'KNeighborsClassifier'}. Best is trial 16 with value: 0.8312124495223087.\n"
     ]
    },
    {
     "name": "stdout",
     "output_type": "stream",
     "text": [
      "Best Hyperparameters (RandomForestClassifier): {'model': 'RandomForestClassifier', 'n_estimators': 100, 'max_depth': 5}\n",
      "Best Mean Accuracy (RandomForestClassifier): 0.8312124495223087\n",
      "\n",
      "\n",
      "Best Hyperparameters (RandomForestClassifier): {'model': 'RandomForestClassifier', 'n_estimators': 100, 'max_depth': 5}\n",
      "Best Mean Accuracy (RandomForestClassifier): 0.8312124495223087\n",
      "\n",
      "\n"
     ]
    },
    {
     "name": "stderr",
     "output_type": "stream",
     "text": [
      "[I 2023-10-14 22:21:01,008] Trial 35 finished with value: 0.8114941396631536 and parameters: {'model': 'RandomForestClassifier', 'n_estimators': 79, 'max_depth': 10}. Best is trial 16 with value: 0.8312124495223087.\n",
      "[I 2023-10-14 22:21:01,033] Trial 36 finished with value: 0.7622771594602581 and parameters: {'model': 'GaussianNB'}. Best is trial 16 with value: 0.8312124495223087.\n"
     ]
    },
    {
     "name": "stdout",
     "output_type": "stream",
     "text": [
      "Best Hyperparameters (RandomForestClassifier): {'model': 'RandomForestClassifier', 'n_estimators': 100, 'max_depth': 5}\n",
      "Best Mean Accuracy (RandomForestClassifier): 0.8312124495223087\n",
      "\n",
      "\n",
      "Best Hyperparameters (RandomForestClassifier): {'model': 'RandomForestClassifier', 'n_estimators': 100, 'max_depth': 5}\n",
      "Best Mean Accuracy (RandomForestClassifier): 0.8312124495223087\n",
      "\n",
      "\n"
     ]
    },
    {
     "name": "stderr",
     "output_type": "stream",
     "text": [
      "[I 2023-10-14 22:21:01,571] Trial 37 finished with value: 0.8185659411011524 and parameters: {'model': 'RandomForestClassifier', 'n_estimators': 93, 'max_depth': 4}. Best is trial 16 with value: 0.8312124495223087.\n",
      "[I 2023-10-14 22:21:01,607] Trial 38 finished with value: 0.7875997242194426 and parameters: {'model': 'LogisticRegression'}. Best is trial 16 with value: 0.8312124495223087.\n"
     ]
    },
    {
     "name": "stdout",
     "output_type": "stream",
     "text": [
      "Best Hyperparameters (RandomForestClassifier): {'model': 'RandomForestClassifier', 'n_estimators': 100, 'max_depth': 5}\n",
      "Best Mean Accuracy (RandomForestClassifier): 0.8312124495223087\n",
      "\n",
      "\n",
      "Best Hyperparameters (RandomForestClassifier): {'model': 'RandomForestClassifier', 'n_estimators': 100, 'max_depth': 5}\n",
      "Best Mean Accuracy (RandomForestClassifier): 0.8312124495223087\n",
      "\n",
      "\n"
     ]
    },
    {
     "name": "stderr",
     "output_type": "stream",
     "text": [
      "[I 2023-10-14 22:21:02,124] Trial 39 finished with value: 0.821382842509603 and parameters: {'model': 'RandomForestClassifier', 'n_estimators': 90, 'max_depth': 4}. Best is trial 16 with value: 0.8312124495223087.\n",
      "[I 2023-10-14 22:21:02,178] Trial 40 finished with value: 0.7805279227814439 and parameters: {'model': 'KNeighborsClassifier'}. Best is trial 16 with value: 0.8312124495223087.\n"
     ]
    },
    {
     "name": "stdout",
     "output_type": "stream",
     "text": [
      "Best Hyperparameters (RandomForestClassifier): {'model': 'RandomForestClassifier', 'n_estimators': 100, 'max_depth': 5}\n",
      "Best Mean Accuracy (RandomForestClassifier): 0.8312124495223087\n",
      "\n",
      "\n",
      "Best Hyperparameters (RandomForestClassifier): {'model': 'RandomForestClassifier', 'n_estimators': 100, 'max_depth': 5}\n",
      "Best Mean Accuracy (RandomForestClassifier): 0.8312124495223087\n",
      "\n",
      "\n"
     ]
    },
    {
     "name": "stderr",
     "output_type": "stream",
     "text": [
      "[I 2023-10-14 22:21:02,793] Trial 41 finished with value: 0.8283955481138581 and parameters: {'model': 'RandomForestClassifier', 'n_estimators': 100, 'max_depth': 6}. Best is trial 16 with value: 0.8312124495223087.\n"
     ]
    },
    {
     "name": "stdout",
     "output_type": "stream",
     "text": [
      "Best Hyperparameters (RandomForestClassifier): {'model': 'RandomForestClassifier', 'n_estimators': 100, 'max_depth': 5}\n",
      "Best Mean Accuracy (RandomForestClassifier): 0.8312124495223087\n",
      "\n",
      "\n"
     ]
    },
    {
     "name": "stderr",
     "output_type": "stream",
     "text": [
      "[I 2023-10-14 22:21:03,345] Trial 42 finished with value: 0.8298039988180834 and parameters: {'model': 'RandomForestClassifier', 'n_estimators': 90, 'max_depth': 6}. Best is trial 16 with value: 0.8312124495223087.\n"
     ]
    },
    {
     "name": "stdout",
     "output_type": "stream",
     "text": [
      "Best Hyperparameters (RandomForestClassifier): {'model': 'RandomForestClassifier', 'n_estimators': 100, 'max_depth': 5}\n",
      "Best Mean Accuracy (RandomForestClassifier): 0.8312124495223087\n",
      "\n",
      "\n"
     ]
    },
    {
     "name": "stderr",
     "output_type": "stream",
     "text": [
      "[I 2023-10-14 22:21:03,922] Trial 43 finished with value: 0.8227617452969567 and parameters: {'model': 'RandomForestClassifier', 'n_estimators': 92, 'max_depth': 7}. Best is trial 16 with value: 0.8312124495223087.\n"
     ]
    },
    {
     "name": "stdout",
     "output_type": "stream",
     "text": [
      "Best Hyperparameters (RandomForestClassifier): {'model': 'RandomForestClassifier', 'n_estimators': 100, 'max_depth': 5}\n",
      "Best Mean Accuracy (RandomForestClassifier): 0.8312124495223087\n",
      "\n",
      "\n"
     ]
    },
    {
     "name": "stderr",
     "output_type": "stream",
     "text": [
      "[I 2023-10-14 22:21:04,429] Trial 44 finished with value: 0.8283758495026101 and parameters: {'model': 'RandomForestClassifier', 'n_estimators': 83, 'max_depth': 5}. Best is trial 16 with value: 0.8312124495223087.\n",
      "[I 2023-10-14 22:21:04,493] Trial 45 finished with value: 0.8143307396828524 and parameters: {'model': 'SVC'}. Best is trial 16 with value: 0.8312124495223087.\n"
     ]
    },
    {
     "name": "stdout",
     "output_type": "stream",
     "text": [
      "Best Hyperparameters (RandomForestClassifier): {'model': 'RandomForestClassifier', 'n_estimators': 100, 'max_depth': 5}\n",
      "Best Mean Accuracy (RandomForestClassifier): 0.8312124495223087\n",
      "\n",
      "\n",
      "Best Hyperparameters (RandomForestClassifier): {'model': 'RandomForestClassifier', 'n_estimators': 100, 'max_depth': 5}\n",
      "Best Mean Accuracy (RandomForestClassifier): 0.8312124495223087\n",
      "\n",
      "\n"
     ]
    },
    {
     "name": "stderr",
     "output_type": "stream",
     "text": [
      "[I 2023-10-14 22:21:04,981] Trial 46 finished with value: 0.8100856889589284 and parameters: {'model': 'RandomForestClassifier', 'n_estimators': 75, 'max_depth': 9}. Best is trial 16 with value: 0.8312124495223087.\n"
     ]
    },
    {
     "name": "stdout",
     "output_type": "stream",
     "text": [
      "Best Hyperparameters (RandomForestClassifier): {'model': 'RandomForestClassifier', 'n_estimators': 100, 'max_depth': 5}\n",
      "Best Mean Accuracy (RandomForestClassifier): 0.8312124495223087\n",
      "\n",
      "\n"
     ]
    },
    {
     "name": "stderr",
     "output_type": "stream",
     "text": [
      "[I 2023-10-14 22:21:05,535] Trial 47 finished with value: 0.821382842509603 and parameters: {'model': 'RandomForestClassifier', 'n_estimators': 95, 'max_depth': 4}. Best is trial 16 with value: 0.8312124495223087.\n",
      "[I 2023-10-14 22:21:05,557] Trial 48 finished with value: 0.7622771594602581 and parameters: {'model': 'GaussianNB'}. Best is trial 16 with value: 0.8312124495223087.\n",
      "[I 2023-10-14 22:21:05,613] Trial 49 finished with value: 0.7805279227814439 and parameters: {'model': 'KNeighborsClassifier'}. Best is trial 16 with value: 0.8312124495223087.\n",
      "[I 2023-10-14 22:21:05,645] Trial 50 finished with value: 0.7875997242194426 and parameters: {'model': 'LogisticRegression'}. Best is trial 16 with value: 0.8312124495223087.\n"
     ]
    },
    {
     "name": "stdout",
     "output_type": "stream",
     "text": [
      "Best Hyperparameters (RandomForestClassifier): {'model': 'RandomForestClassifier', 'n_estimators': 100, 'max_depth': 5}\n",
      "Best Mean Accuracy (RandomForestClassifier): 0.8312124495223087\n",
      "\n",
      "\n",
      "Best Hyperparameters (RandomForestClassifier): {'model': 'RandomForestClassifier', 'n_estimators': 100, 'max_depth': 5}\n",
      "Best Mean Accuracy (RandomForestClassifier): 0.8312124495223087\n",
      "\n",
      "\n",
      "Best Hyperparameters (RandomForestClassifier): {'model': 'RandomForestClassifier', 'n_estimators': 100, 'max_depth': 5}\n",
      "Best Mean Accuracy (RandomForestClassifier): 0.8312124495223087\n",
      "\n",
      "\n",
      "Best Hyperparameters (RandomForestClassifier): {'model': 'RandomForestClassifier', 'n_estimators': 100, 'max_depth': 5}\n",
      "Best Mean Accuracy (RandomForestClassifier): 0.8312124495223087\n",
      "\n",
      "\n"
     ]
    },
    {
     "name": "stderr",
     "output_type": "stream",
     "text": [
      "[I 2023-10-14 22:21:06,214] Trial 51 finished with value: 0.8298039988180834 and parameters: {'model': 'RandomForestClassifier', 'n_estimators': 89, 'max_depth': 6}. Best is trial 16 with value: 0.8312124495223087.\n"
     ]
    },
    {
     "name": "stdout",
     "output_type": "stream",
     "text": [
      "Best Hyperparameters (RandomForestClassifier): {'model': 'RandomForestClassifier', 'n_estimators': 100, 'max_depth': 5}\n",
      "Best Mean Accuracy (RandomForestClassifier): 0.8312124495223087\n",
      "\n",
      "\n"
     ]
    },
    {
     "name": "stderr",
     "output_type": "stream",
     "text": [
      "[I 2023-10-14 22:21:06,783] Trial 52 finished with value: 0.8298039988180834 and parameters: {'model': 'RandomForestClassifier', 'n_estimators': 93, 'max_depth': 6}. Best is trial 16 with value: 0.8312124495223087.\n"
     ]
    },
    {
     "name": "stdout",
     "output_type": "stream",
     "text": [
      "Best Hyperparameters (RandomForestClassifier): {'model': 'RandomForestClassifier', 'n_estimators': 100, 'max_depth': 5}\n",
      "Best Mean Accuracy (RandomForestClassifier): 0.8312124495223087\n",
      "\n",
      "\n"
     ]
    },
    {
     "name": "stderr",
     "output_type": "stream",
     "text": [
      "[I 2023-10-14 22:21:07,315] Trial 53 finished with value: 0.8227617452969567 and parameters: {'model': 'RandomForestClassifier', 'n_estimators': 86, 'max_depth': 7}. Best is trial 16 with value: 0.8312124495223087.\n",
      "[I 2023-10-14 22:21:07,373] Trial 54 finished with value: 0.8143307396828524 and parameters: {'model': 'SVC'}. Best is trial 16 with value: 0.8312124495223087.\n"
     ]
    },
    {
     "name": "stdout",
     "output_type": "stream",
     "text": [
      "Best Hyperparameters (RandomForestClassifier): {'model': 'RandomForestClassifier', 'n_estimators': 100, 'max_depth': 5}\n",
      "Best Mean Accuracy (RandomForestClassifier): 0.8312124495223087\n",
      "\n",
      "\n",
      "Best Hyperparameters (RandomForestClassifier): {'model': 'RandomForestClassifier', 'n_estimators': 100, 'max_depth': 5}\n",
      "Best Mean Accuracy (RandomForestClassifier): 0.8312124495223087\n",
      "\n",
      "\n"
     ]
    },
    {
     "name": "stderr",
     "output_type": "stream",
     "text": [
      "[I 2023-10-14 22:21:07,759] Trial 55 finished with value: 0.7946321284349452 and parameters: {'model': 'RandomForestClassifier', 'n_estimators': 51, 'max_depth': 13}. Best is trial 16 with value: 0.8312124495223087.\n"
     ]
    },
    {
     "name": "stdout",
     "output_type": "stream",
     "text": [
      "Best Hyperparameters (RandomForestClassifier): {'model': 'RandomForestClassifier', 'n_estimators': 100, 'max_depth': 5}\n",
      "Best Mean Accuracy (RandomForestClassifier): 0.8312124495223087\n",
      "\n",
      "\n"
     ]
    },
    {
     "name": "stderr",
     "output_type": "stream",
     "text": [
      "[I 2023-10-14 22:21:08,315] Trial 56 finished with value: 0.8086870875603271 and parameters: {'model': 'RandomForestClassifier', 'n_estimators': 100, 'max_depth': 3}. Best is trial 16 with value: 0.8312124495223087.\n"
     ]
    },
    {
     "name": "stdout",
     "output_type": "stream",
     "text": [
      "Best Hyperparameters (RandomForestClassifier): {'model': 'RandomForestClassifier', 'n_estimators': 100, 'max_depth': 5}\n",
      "Best Mean Accuracy (RandomForestClassifier): 0.8312124495223087\n",
      "\n",
      "\n"
     ]
    },
    {
     "name": "stderr",
     "output_type": "stream",
     "text": [
      "[I 2023-10-14 22:21:08,870] Trial 57 finished with value: 0.8269969467152565 and parameters: {'model': 'RandomForestClassifier', 'n_estimators': 94, 'max_depth': 5}. Best is trial 16 with value: 0.8312124495223087.\n"
     ]
    },
    {
     "name": "stdout",
     "output_type": "stream",
     "text": [
      "Best Hyperparameters (RandomForestClassifier): {'model': 'RandomForestClassifier', 'n_estimators': 100, 'max_depth': 5}\n",
      "Best Mean Accuracy (RandomForestClassifier): 0.8312124495223087\n",
      "\n",
      "\n"
     ]
    },
    {
     "name": "stderr",
     "output_type": "stream",
     "text": [
      "[I 2023-10-14 22:21:09,229] Trial 58 finished with value: 0.8044814340588988 and parameters: {'model': 'RandomForestClassifier', 'n_estimators': 52, 'max_depth': 12}. Best is trial 16 with value: 0.8312124495223087.\n"
     ]
    },
    {
     "name": "stdout",
     "output_type": "stream",
     "text": [
      "Best Hyperparameters (RandomForestClassifier): {'model': 'RandomForestClassifier', 'n_estimators': 100, 'max_depth': 5}\n",
      "Best Mean Accuracy (RandomForestClassifier): 0.8312124495223087\n",
      "\n",
      "\n"
     ]
    },
    {
     "name": "stderr",
     "output_type": "stream",
     "text": [
      "[I 2023-10-14 22:21:09,732] Trial 59 finished with value: 0.8100955382645523 and parameters: {'model': 'RandomForestClassifier', 'n_estimators': 88, 'max_depth': 3}. Best is trial 16 with value: 0.8312124495223087.\n",
      "[I 2023-10-14 22:21:09,791] Trial 60 finished with value: 0.8143307396828524 and parameters: {'model': 'SVC'}. Best is trial 16 with value: 0.8312124495223087.\n"
     ]
    },
    {
     "name": "stdout",
     "output_type": "stream",
     "text": [
      "Best Hyperparameters (RandomForestClassifier): {'model': 'RandomForestClassifier', 'n_estimators': 100, 'max_depth': 5}\n",
      "Best Mean Accuracy (RandomForestClassifier): 0.8312124495223087\n",
      "\n",
      "\n",
      "Best Hyperparameters (RandomForestClassifier): {'model': 'RandomForestClassifier', 'n_estimators': 100, 'max_depth': 5}\n",
      "Best Mean Accuracy (RandomForestClassifier): 0.8312124495223087\n",
      "\n",
      "\n"
     ]
    },
    {
     "name": "stderr",
     "output_type": "stream",
     "text": [
      "[I 2023-10-14 22:21:10,344] Trial 61 finished with value: 0.8298039988180834 and parameters: {'model': 'RandomForestClassifier', 'n_estimators': 89, 'max_depth': 6}. Best is trial 16 with value: 0.8312124495223087.\n"
     ]
    },
    {
     "name": "stdout",
     "output_type": "stream",
     "text": [
      "Best Hyperparameters (RandomForestClassifier): {'model': 'RandomForestClassifier', 'n_estimators': 100, 'max_depth': 5}\n",
      "Best Mean Accuracy (RandomForestClassifier): 0.8312124495223087\n",
      "\n",
      "\n"
     ]
    },
    {
     "name": "stderr",
     "output_type": "stream",
     "text": [
      "[I 2023-10-14 22:21:10,934] Trial 62 finished with value: 0.8227617452969567 and parameters: {'model': 'RandomForestClassifier', 'n_estimators': 94, 'max_depth': 7}. Best is trial 16 with value: 0.8312124495223087.\n"
     ]
    },
    {
     "name": "stdout",
     "output_type": "stream",
     "text": [
      "Best Hyperparameters (RandomForestClassifier): {'model': 'RandomForestClassifier', 'n_estimators': 100, 'max_depth': 5}\n",
      "Best Mean Accuracy (RandomForestClassifier): 0.8312124495223087\n",
      "\n",
      "\n"
     ]
    },
    {
     "name": "stderr",
     "output_type": "stream",
     "text": [
      "[I 2023-10-14 22:21:11,435] Trial 63 finished with value: 0.8255884960110313 and parameters: {'model': 'RandomForestClassifier', 'n_estimators': 81, 'max_depth': 6}. Best is trial 16 with value: 0.8312124495223087.\n"
     ]
    },
    {
     "name": "stdout",
     "output_type": "stream",
     "text": [
      "Best Hyperparameters (RandomForestClassifier): {'model': 'RandomForestClassifier', 'n_estimators': 100, 'max_depth': 5}\n",
      "Best Mean Accuracy (RandomForestClassifier): 0.8312124495223087\n",
      "\n",
      "\n"
     ]
    },
    {
     "name": "stderr",
     "output_type": "stream",
     "text": [
      "[I 2023-10-14 22:21:12,038] Trial 64 finished with value: 0.819934994582882 and parameters: {'model': 'RandomForestClassifier', 'n_estimators': 96, 'max_depth': 8}. Best is trial 16 with value: 0.8312124495223087.\n"
     ]
    },
    {
     "name": "stdout",
     "output_type": "stream",
     "text": [
      "Best Hyperparameters (RandomForestClassifier): {'model': 'RandomForestClassifier', 'n_estimators': 100, 'max_depth': 5}\n",
      "Best Mean Accuracy (RandomForestClassifier): 0.8312124495223087\n",
      "\n",
      "\n"
     ]
    },
    {
     "name": "stderr",
     "output_type": "stream",
     "text": [
      "[I 2023-10-14 22:21:12,565] Trial 65 finished with value: 0.8269870974096326 and parameters: {'model': 'RandomForestClassifier', 'n_estimators': 88, 'max_depth': 5}. Best is trial 16 with value: 0.8312124495223087.\n",
      "[I 2023-10-14 22:21:12,590] Trial 66 finished with value: 0.7622771594602581 and parameters: {'model': 'GaussianNB'}. Best is trial 16 with value: 0.8312124495223087.\n",
      "[I 2023-10-14 22:21:12,626] Trial 67 finished with value: 0.7875997242194426 and parameters: {'model': 'LogisticRegression'}. Best is trial 16 with value: 0.8312124495223087.\n"
     ]
    },
    {
     "name": "stdout",
     "output_type": "stream",
     "text": [
      "Best Hyperparameters (RandomForestClassifier): {'model': 'RandomForestClassifier', 'n_estimators': 100, 'max_depth': 5}\n",
      "Best Mean Accuracy (RandomForestClassifier): 0.8312124495223087\n",
      "\n",
      "\n",
      "Best Hyperparameters (RandomForestClassifier): {'model': 'RandomForestClassifier', 'n_estimators': 100, 'max_depth': 5}\n",
      "Best Mean Accuracy (RandomForestClassifier): 0.8312124495223087\n",
      "\n",
      "\n",
      "Best Hyperparameters (RandomForestClassifier): {'model': 'RandomForestClassifier', 'n_estimators': 100, 'max_depth': 5}\n",
      "Best Mean Accuracy (RandomForestClassifier): 0.8312124495223087\n",
      "\n",
      "\n"
     ]
    },
    {
     "name": "stderr",
     "output_type": "stream",
     "text": [
      "[I 2023-10-14 22:21:13,169] Trial 68 finished with value: 0.8016448340392002 and parameters: {'model': 'RandomForestClassifier', 'n_estimators': 97, 'max_depth': 2}. Best is trial 16 with value: 0.8312124495223087.\n"
     ]
    },
    {
     "name": "stdout",
     "output_type": "stream",
     "text": [
      "Best Hyperparameters (RandomForestClassifier): {'model': 'RandomForestClassifier', 'n_estimators': 100, 'max_depth': 5}\n",
      "Best Mean Accuracy (RandomForestClassifier): 0.8312124495223087\n",
      "\n",
      "\n"
     ]
    },
    {
     "name": "stderr",
     "output_type": "stream",
     "text": [
      "[I 2023-10-14 22:21:13,629] Trial 69 finished with value: 0.8086772382547032 and parameters: {'model': 'RandomForestClassifier', 'n_estimators': 71, 'max_depth': 9}. Best is trial 16 with value: 0.8312124495223087.\n",
      "[I 2023-10-14 22:21:13,682] Trial 70 finished with value: 0.7805279227814439 and parameters: {'model': 'KNeighborsClassifier'}. Best is trial 16 with value: 0.8312124495223087.\n"
     ]
    },
    {
     "name": "stdout",
     "output_type": "stream",
     "text": [
      "Best Hyperparameters (RandomForestClassifier): {'model': 'RandomForestClassifier', 'n_estimators': 100, 'max_depth': 5}\n",
      "Best Mean Accuracy (RandomForestClassifier): 0.8312124495223087\n",
      "\n",
      "\n",
      "Best Hyperparameters (RandomForestClassifier): {'model': 'RandomForestClassifier', 'n_estimators': 100, 'max_depth': 5}\n",
      "Best Mean Accuracy (RandomForestClassifier): 0.8312124495223087\n",
      "\n",
      "\n"
     ]
    },
    {
     "name": "stderr",
     "output_type": "stream",
     "text": [
      "[I 2023-10-14 22:21:14,244] Trial 71 finished with value: 0.8298039988180834 and parameters: {'model': 'RandomForestClassifier', 'n_estimators': 93, 'max_depth': 6}. Best is trial 16 with value: 0.8312124495223087.\n"
     ]
    },
    {
     "name": "stdout",
     "output_type": "stream",
     "text": [
      "Best Hyperparameters (RandomForestClassifier): {'model': 'RandomForestClassifier', 'n_estimators': 100, 'max_depth': 5}\n",
      "Best Mean Accuracy (RandomForestClassifier): 0.8312124495223087\n",
      "\n",
      "\n"
     ]
    },
    {
     "name": "stderr",
     "output_type": "stream",
     "text": [
      "[I 2023-10-14 22:21:14,876] Trial 72 finished with value: 0.8030631340490494 and parameters: {'model': 'RandomForestClassifier', 'n_estimators': 97, 'max_depth': 16}. Best is trial 16 with value: 0.8312124495223087.\n"
     ]
    },
    {
     "name": "stdout",
     "output_type": "stream",
     "text": [
      "Best Hyperparameters (RandomForestClassifier): {'model': 'RandomForestClassifier', 'n_estimators': 100, 'max_depth': 5}\n",
      "Best Mean Accuracy (RandomForestClassifier): 0.8312124495223087\n",
      "\n",
      "\n"
     ]
    },
    {
     "name": "stderr",
     "output_type": "stream",
     "text": [
      "[I 2023-10-14 22:21:15,411] Trial 73 finished with value: 0.8269870974096326 and parameters: {'model': 'RandomForestClassifier', 'n_estimators': 89, 'max_depth': 5}. Best is trial 16 with value: 0.8312124495223087.\n"
     ]
    },
    {
     "name": "stdout",
     "output_type": "stream",
     "text": [
      "Best Hyperparameters (RandomForestClassifier): {'model': 'RandomForestClassifier', 'n_estimators': 100, 'max_depth': 5}\n",
      "Best Mean Accuracy (RandomForestClassifier): 0.8312124495223087\n",
      "\n",
      "\n"
     ]
    },
    {
     "name": "stderr",
     "output_type": "stream",
     "text": [
      "[I 2023-10-14 22:21:15,795] Trial 74 finished with value: 0.81995469319413 and parameters: {'model': 'RandomForestClassifier', 'n_estimators': 60, 'max_depth': 6}. Best is trial 16 with value: 0.8312124495223087.\n"
     ]
    },
    {
     "name": "stdout",
     "output_type": "stream",
     "text": [
      "Best Hyperparameters (RandomForestClassifier): {'model': 'RandomForestClassifier', 'n_estimators': 100, 'max_depth': 5}\n",
      "Best Mean Accuracy (RandomForestClassifier): 0.8312124495223087\n",
      "\n",
      "\n"
     ]
    },
    {
     "name": "stderr",
     "output_type": "stream",
     "text": [
      "[I 2023-10-14 22:21:16,431] Trial 75 finished with value: 0.8227617452969567 and parameters: {'model': 'RandomForestClassifier', 'n_estimators': 100, 'max_depth': 7}. Best is trial 16 with value: 0.8312124495223087.\n"
     ]
    },
    {
     "name": "stdout",
     "output_type": "stream",
     "text": [
      "Best Hyperparameters (RandomForestClassifier): {'model': 'RandomForestClassifier', 'n_estimators': 100, 'max_depth': 5}\n",
      "Best Mean Accuracy (RandomForestClassifier): 0.8312124495223087\n",
      "\n",
      "\n"
     ]
    },
    {
     "name": "stderr",
     "output_type": "stream",
     "text": [
      "[I 2023-10-14 22:21:16,927] Trial 76 finished with value: 0.8199645424997538 and parameters: {'model': 'RandomForestClassifier', 'n_estimators': 84, 'max_depth': 4}. Best is trial 16 with value: 0.8312124495223087.\n"
     ]
    },
    {
     "name": "stdout",
     "output_type": "stream",
     "text": [
      "Best Hyperparameters (RandomForestClassifier): {'model': 'RandomForestClassifier', 'n_estimators': 100, 'max_depth': 5}\n",
      "Best Mean Accuracy (RandomForestClassifier): 0.8312124495223087\n",
      "\n",
      "\n"
     ]
    },
    {
     "name": "stderr",
     "output_type": "stream",
     "text": [
      "[I 2023-10-14 22:21:17,176] Trial 77 finished with value: 0.8030631340490496 and parameters: {'model': 'RandomForestClassifier', 'n_estimators': 36, 'max_depth': 8}. Best is trial 16 with value: 0.8312124495223087.\n"
     ]
    },
    {
     "name": "stdout",
     "output_type": "stream",
     "text": [
      "Best Hyperparameters (RandomForestClassifier): {'model': 'RandomForestClassifier', 'n_estimators': 100, 'max_depth': 5}\n",
      "Best Mean Accuracy (RandomForestClassifier): 0.8312124495223087\n",
      "\n",
      "\n"
     ]
    },
    {
     "name": "stderr",
     "output_type": "stream",
     "text": [
      "[I 2023-10-14 22:21:17,748] Trial 78 finished with value: 0.8284053974194819 and parameters: {'model': 'RandomForestClassifier', 'n_estimators': 96, 'max_depth': 5}. Best is trial 16 with value: 0.8312124495223087.\n",
      "[I 2023-10-14 22:21:17,771] Trial 79 finished with value: 0.7622771594602581 and parameters: {'model': 'GaussianNB'}. Best is trial 16 with value: 0.8312124495223087.\n",
      "[I 2023-10-14 22:21:17,901] Trial 80 finished with value: 0.8072884861617255 and parameters: {'model': 'RandomForestClassifier', 'n_estimators': 17, 'max_depth': 3}. Best is trial 16 with value: 0.8312124495223087.\n"
     ]
    },
    {
     "name": "stdout",
     "output_type": "stream",
     "text": [
      "Best Hyperparameters (RandomForestClassifier): {'model': 'RandomForestClassifier', 'n_estimators': 100, 'max_depth': 5}\n",
      "Best Mean Accuracy (RandomForestClassifier): 0.8312124495223087\n",
      "\n",
      "\n",
      "Best Hyperparameters (RandomForestClassifier): {'model': 'RandomForestClassifier', 'n_estimators': 100, 'max_depth': 5}\n",
      "Best Mean Accuracy (RandomForestClassifier): 0.8312124495223087\n",
      "\n",
      "\n",
      "Best Hyperparameters (RandomForestClassifier): {'model': 'RandomForestClassifier', 'n_estimators': 100, 'max_depth': 5}\n",
      "Best Mean Accuracy (RandomForestClassifier): 0.8312124495223087\n",
      "\n",
      "\n"
     ]
    },
    {
     "name": "stderr",
     "output_type": "stream",
     "text": [
      "[I 2023-10-14 22:21:18,451] Trial 81 finished with value: 0.8298039988180834 and parameters: {'model': 'RandomForestClassifier', 'n_estimators': 90, 'max_depth': 6}. Best is trial 16 with value: 0.8312124495223087.\n"
     ]
    },
    {
     "name": "stdout",
     "output_type": "stream",
     "text": [
      "Best Hyperparameters (RandomForestClassifier): {'model': 'RandomForestClassifier', 'n_estimators': 100, 'max_depth': 5}\n",
      "Best Mean Accuracy (RandomForestClassifier): 0.8312124495223087\n",
      "\n",
      "\n"
     ]
    },
    {
     "name": "stderr",
     "output_type": "stream",
     "text": [
      "[I 2023-10-14 22:21:18,964] Trial 82 finished with value: 0.8298039988180834 and parameters: {'model': 'RandomForestClassifier', 'n_estimators': 85, 'max_depth': 6}. Best is trial 16 with value: 0.8312124495223087.\n"
     ]
    },
    {
     "name": "stdout",
     "output_type": "stream",
     "text": [
      "Best Hyperparameters (RandomForestClassifier): {'model': 'RandomForestClassifier', 'n_estimators': 100, 'max_depth': 5}\n",
      "Best Mean Accuracy (RandomForestClassifier): 0.8312124495223087\n",
      "\n",
      "\n"
     ]
    },
    {
     "name": "stderr",
     "output_type": "stream",
     "text": [
      "[I 2023-10-14 22:21:19,505] Trial 83 finished with value: 0.8255884960110311 and parameters: {'model': 'RandomForestClassifier', 'n_estimators': 91, 'max_depth': 5}. Best is trial 16 with value: 0.8312124495223087.\n"
     ]
    },
    {
     "name": "stdout",
     "output_type": "stream",
     "text": [
      "Best Hyperparameters (RandomForestClassifier): {'model': 'RandomForestClassifier', 'n_estimators': 100, 'max_depth': 5}\n",
      "Best Mean Accuracy (RandomForestClassifier): 0.8312124495223087\n",
      "\n",
      "\n"
     ]
    },
    {
     "name": "stderr",
     "output_type": "stream",
     "text": [
      "[I 2023-10-14 22:21:19,988] Trial 84 finished with value: 0.8227617452969567 and parameters: {'model': 'RandomForestClassifier', 'n_estimators': 77, 'max_depth': 7}. Best is trial 16 with value: 0.8312124495223087.\n",
      "[I 2023-10-14 22:21:20,030] Trial 85 finished with value: 0.7875997242194426 and parameters: {'model': 'LogisticRegression'}. Best is trial 16 with value: 0.8312124495223087.\n"
     ]
    },
    {
     "name": "stdout",
     "output_type": "stream",
     "text": [
      "Best Hyperparameters (RandomForestClassifier): {'model': 'RandomForestClassifier', 'n_estimators': 100, 'max_depth': 5}\n",
      "Best Mean Accuracy (RandomForestClassifier): 0.8312124495223087\n",
      "\n",
      "\n",
      "Best Hyperparameters (RandomForestClassifier): {'model': 'RandomForestClassifier', 'n_estimators': 100, 'max_depth': 5}\n",
      "Best Mean Accuracy (RandomForestClassifier): 0.8312124495223087\n",
      "\n",
      "\n"
     ]
    },
    {
     "name": "stderr",
     "output_type": "stream",
     "text": [
      "[I 2023-10-14 22:21:20,572] Trial 86 finished with value: 0.8185659411011524 and parameters: {'model': 'RandomForestClassifier', 'n_estimators': 93, 'max_depth': 4}. Best is trial 16 with value: 0.8312124495223087.\n",
      "[I 2023-10-14 22:21:20,633] Trial 87 finished with value: 0.8143307396828524 and parameters: {'model': 'SVC'}. Best is trial 16 with value: 0.8312124495223087.\n",
      "[I 2023-10-14 22:21:20,687] Trial 88 finished with value: 0.7805279227814439 and parameters: {'model': 'KNeighborsClassifier'}. Best is trial 16 with value: 0.8312124495223087.\n"
     ]
    },
    {
     "name": "stdout",
     "output_type": "stream",
     "text": [
      "Best Hyperparameters (RandomForestClassifier): {'model': 'RandomForestClassifier', 'n_estimators': 100, 'max_depth': 5}\n",
      "Best Mean Accuracy (RandomForestClassifier): 0.8312124495223087\n",
      "\n",
      "\n",
      "Best Hyperparameters (RandomForestClassifier): {'model': 'RandomForestClassifier', 'n_estimators': 100, 'max_depth': 5}\n",
      "Best Mean Accuracy (RandomForestClassifier): 0.8312124495223087\n",
      "\n",
      "\n",
      "Best Hyperparameters (RandomForestClassifier): {'model': 'RandomForestClassifier', 'n_estimators': 100, 'max_depth': 5}\n",
      "Best Mean Accuracy (RandomForestClassifier): 0.8312124495223087\n",
      "\n",
      "\n"
     ]
    },
    {
     "name": "stderr",
     "output_type": "stream",
     "text": [
      "[I 2023-10-14 22:21:21,230] Trial 89 finished with value: 0.8312026002166848 and parameters: {'model': 'RandomForestClassifier', 'n_estimators': 87, 'max_depth': 6}. Best is trial 16 with value: 0.8312124495223087.\n"
     ]
    },
    {
     "name": "stdout",
     "output_type": "stream",
     "text": [
      "Best Hyperparameters (RandomForestClassifier): {'model': 'RandomForestClassifier', 'n_estimators': 100, 'max_depth': 5}\n",
      "Best Mean Accuracy (RandomForestClassifier): 0.8312124495223087\n",
      "\n",
      "\n"
     ]
    },
    {
     "name": "stderr",
     "output_type": "stream",
     "text": [
      "[I 2023-10-14 22:21:21,847] Trial 90 finished with value: 0.8171180931744312 and parameters: {'model': 'RandomForestClassifier', 'n_estimators': 97, 'max_depth': 8}. Best is trial 16 with value: 0.8312124495223087.\n"
     ]
    },
    {
     "name": "stdout",
     "output_type": "stream",
     "text": [
      "Best Hyperparameters (RandomForestClassifier): {'model': 'RandomForestClassifier', 'n_estimators': 100, 'max_depth': 5}\n",
      "Best Mean Accuracy (RandomForestClassifier): 0.8312124495223087\n",
      "\n",
      "\n"
     ]
    },
    {
     "name": "stderr",
     "output_type": "stream",
     "text": [
      "[I 2023-10-14 22:21:22,382] Trial 91 finished with value: 0.8298039988180834 and parameters: {'model': 'RandomForestClassifier', 'n_estimators': 86, 'max_depth': 6}. Best is trial 16 with value: 0.8312124495223087.\n"
     ]
    },
    {
     "name": "stdout",
     "output_type": "stream",
     "text": [
      "Best Hyperparameters (RandomForestClassifier): {'model': 'RandomForestClassifier', 'n_estimators': 100, 'max_depth': 5}\n",
      "Best Mean Accuracy (RandomForestClassifier): 0.8312124495223087\n",
      "\n",
      "\n"
     ]
    },
    {
     "name": "stderr",
     "output_type": "stream",
     "text": [
      "[I 2023-10-14 22:21:22,919] Trial 92 finished with value: 0.8269870974096326 and parameters: {'model': 'RandomForestClassifier', 'n_estimators': 89, 'max_depth': 5}. Best is trial 16 with value: 0.8312124495223087.\n"
     ]
    },
    {
     "name": "stdout",
     "output_type": "stream",
     "text": [
      "Best Hyperparameters (RandomForestClassifier): {'model': 'RandomForestClassifier', 'n_estimators': 100, 'max_depth': 5}\n",
      "Best Mean Accuracy (RandomForestClassifier): 0.8312124495223087\n",
      "\n",
      "\n"
     ]
    },
    {
     "name": "stderr",
     "output_type": "stream",
     "text": [
      "[I 2023-10-14 22:21:23,538] Trial 93 finished with value: 0.8227617452969567 and parameters: {'model': 'RandomForestClassifier', 'n_estimators': 100, 'max_depth': 7}. Best is trial 16 with value: 0.8312124495223087.\n"
     ]
    },
    {
     "name": "stdout",
     "output_type": "stream",
     "text": [
      "Best Hyperparameters (RandomForestClassifier): {'model': 'RandomForestClassifier', 'n_estimators': 100, 'max_depth': 5}\n",
      "Best Mean Accuracy (RandomForestClassifier): 0.8312124495223087\n",
      "\n",
      "\n"
     ]
    },
    {
     "name": "stderr",
     "output_type": "stream",
     "text": [
      "[I 2023-10-14 22:21:24,045] Trial 94 finished with value: 0.8255884960110313 and parameters: {'model': 'RandomForestClassifier', 'n_estimators': 81, 'max_depth': 6}. Best is trial 16 with value: 0.8312124495223087.\n"
     ]
    },
    {
     "name": "stdout",
     "output_type": "stream",
     "text": [
      "Best Hyperparameters (RandomForestClassifier): {'model': 'RandomForestClassifier', 'n_estimators': 100, 'max_depth': 5}\n",
      "Best Mean Accuracy (RandomForestClassifier): 0.8312124495223087\n",
      "\n",
      "\n"
     ]
    },
    {
     "name": "stderr",
     "output_type": "stream",
     "text": [
      "[I 2023-10-14 22:21:24,591] Trial 95 finished with value: 0.8255884960110311 and parameters: {'model': 'RandomForestClassifier', 'n_estimators': 91, 'max_depth': 5}. Best is trial 16 with value: 0.8312124495223087.\n"
     ]
    },
    {
     "name": "stdout",
     "output_type": "stream",
     "text": [
      "Best Hyperparameters (RandomForestClassifier): {'model': 'RandomForestClassifier', 'n_estimators': 100, 'max_depth': 5}\n",
      "Best Mean Accuracy (RandomForestClassifier): 0.8312124495223087\n",
      "\n",
      "\n"
     ]
    },
    {
     "name": "stderr",
     "output_type": "stream",
     "text": [
      "[I 2023-10-14 22:21:25,140] Trial 96 finished with value: 0.8171574903969271 and parameters: {'model': 'RandomForestClassifier', 'n_estimators': 94, 'max_depth': 4}. Best is trial 16 with value: 0.8312124495223087.\n"
     ]
    },
    {
     "name": "stdout",
     "output_type": "stream",
     "text": [
      "Best Hyperparameters (RandomForestClassifier): {'model': 'RandomForestClassifier', 'n_estimators': 100, 'max_depth': 5}\n",
      "Best Mean Accuracy (RandomForestClassifier): 0.8312124495223087\n",
      "\n",
      "\n"
     ]
    },
    {
     "name": "stderr",
     "output_type": "stream",
     "text": [
      "[I 2023-10-14 22:21:25,737] Trial 97 finished with value: 0.8283955481138581 and parameters: {'model': 'RandomForestClassifier', 'n_estimators': 98, 'max_depth': 6}. Best is trial 16 with value: 0.8312124495223087.\n"
     ]
    },
    {
     "name": "stdout",
     "output_type": "stream",
     "text": [
      "Best Hyperparameters (RandomForestClassifier): {'model': 'RandomForestClassifier', 'n_estimators': 100, 'max_depth': 5}\n",
      "Best Mean Accuracy (RandomForestClassifier): 0.8312124495223087\n",
      "\n",
      "\n"
     ]
    },
    {
     "name": "stderr",
     "output_type": "stream",
     "text": [
      "[I 2023-10-14 22:21:26,327] Trial 98 finished with value: 0.812902590367379 and parameters: {'model': 'RandomForestClassifier', 'n_estimators': 87, 'max_depth': 9}. Best is trial 16 with value: 0.8312124495223087.\n"
     ]
    },
    {
     "name": "stdout",
     "output_type": "stream",
     "text": [
      "Best Hyperparameters (RandomForestClassifier): {'model': 'RandomForestClassifier', 'n_estimators': 100, 'max_depth': 5}\n",
      "Best Mean Accuracy (RandomForestClassifier): 0.8312124495223087\n",
      "\n",
      "\n"
     ]
    },
    {
     "name": "stderr",
     "output_type": "stream",
     "text": [
      "[I 2023-10-14 22:21:26,832] Trial 99 finished with value: 0.824170196001182 and parameters: {'model': 'RandomForestClassifier', 'n_estimators': 81, 'max_depth': 7}. Best is trial 16 with value: 0.8312124495223087.\n"
     ]
    },
    {
     "name": "stdout",
     "output_type": "stream",
     "text": [
      "Best Hyperparameters (RandomForestClassifier): {'model': 'RandomForestClassifier', 'n_estimators': 100, 'max_depth': 5}\n",
      "Best Mean Accuracy (RandomForestClassifier): 0.8312124495223087\n",
      "\n",
      "\n"
     ]
    }
   ],
   "source": [
    "# Define the objective function for Optuna to optimize\n",
    "models = ['GaussianNB', 'KNeighborsClassifier', 'LogisticRegression',\n",
    "          'RandomForestClassifier', 'SVC']\n",
    "\n",
    "# Define an objective function for Optuna to optimize\n",
    "def objective(trial):\n",
    "    model_name = trial.suggest_categorical('model', models)\n",
    "\n",
    "    if model_name == 'LogisticRegression':\n",
    "        model = LogisticRegression()\n",
    "    elif model_name == 'GaussianNB':\n",
    "        model = GaussianNB()\n",
    "    elif model_name == 'KNeighborsClassifier':\n",
    "        model = KNeighborsClassifier()\n",
    "    elif model_name == 'RandomForestClassifier':\n",
    "        n_estimators = trial.suggest_int('n_estimators', 10, 100)\n",
    "        max_depth = trial.suggest_int('max_depth', 2, 20)\n",
    "        model = RandomForestClassifier(n_estimators=n_estimators, max_depth=max_depth, random_state=42)\n",
    "    elif model_name == 'SVC':\n",
    "        model = SVC()\n",
    "\n",
    "    # Perform cross validation with 5 folds\n",
    "    scores = cross_val_score(model, X_train, y_train, scoring='accuracy', cv=5)\n",
    "\n",
    "    # Calculate the mean accuracy scores\n",
    "    accuracy_mean = scores.mean()\n",
    "    \n",
    "    return accuracy_mean\n",
    "\n",
    "# Create an Optuna study\n",
    "study = optuna.create_study(direction='maximize')\n",
    "\n",
    "# Optimize the objective function for each model\n",
    "for _ in range(100):  # Repeat for 100 trials\n",
    "    study.optimize(objective, n_trials=1)\n",
    "\n",
    "    # Print the best hyperparameters and objective value for each model\n",
    "    best_params = study.best_params\n",
    "    best_accuracy = study.best_value\n",
    "    print(f\"Best Hyperparameters ({study.best_trial.params['model']}):\", best_params)\n",
    "    print(f\"Best Mean Accuracy ({study.best_trial.params['model']}):\", best_accuracy)\n",
    "    print(\"\\n\")"
   ]
  },
  {
   "cell_type": "code",
   "execution_count": 34,
   "id": "73dbf287",
   "metadata": {
    "execution": {
     "iopub.execute_input": "2023-10-14T22:21:26.876976Z",
     "iopub.status.busy": "2023-10-14T22:21:26.876666Z",
     "iopub.status.idle": "2023-10-14T22:21:42.718800Z",
     "shell.execute_reply": "2023-10-14T22:21:42.717655Z"
    },
    "papermill": {
     "duration": 15.862386,
     "end_time": "2023-10-14T22:21:42.720176",
     "exception": false,
     "start_time": "2023-10-14T22:21:26.857790",
     "status": "completed"
    },
    "tags": []
   },
   "outputs": [
    {
     "name": "stderr",
     "output_type": "stream",
     "text": [
      "[I 2023-10-14 22:21:26,880] A new study created in memory with name: no-name-22d10de2-2d5b-44e1-9e1f-2b07fce2ea7b\n",
      "/tmp/ipykernel_20/1963541557.py:15: FutureWarning: suggest_loguniform has been deprecated in v3.0.0. This feature will be removed in v6.0.0. See https://github.com/optuna/optuna/releases/tag/v3.0.0. Use suggest_float(..., log=True) instead.\n",
      "  learning_rate = trial.suggest_loguniform('learning_rate', 0.01, 0.1)\n",
      "[I 2023-10-14 22:21:26,959] Trial 0 finished with value: 0.7848101265822786 and parameters: {'model': 'XGBClassifier', 'n_estimators': 31, 'max_depth': 2, 'learning_rate': 0.06270169953740806}. Best is trial 0 with value: 0.7848101265822786.\n",
      "/tmp/ipykernel_20/1963541557.py:15: FutureWarning: suggest_loguniform has been deprecated in v3.0.0. This feature will be removed in v6.0.0. See https://github.com/optuna/optuna/releases/tag/v3.0.0. Use suggest_float(..., log=True) instead.\n",
      "  learning_rate = trial.suggest_loguniform('learning_rate', 0.01, 0.1)\n",
      "[I 2023-10-14 22:21:27,003] Trial 1 finished with value: 0.8199718706047822 and parameters: {'model': 'XGBClassifier', 'n_estimators': 23, 'max_depth': 3, 'learning_rate': 0.04356842508001853}. Best is trial 1 with value: 0.8199718706047822.\n",
      "/tmp/ipykernel_20/1963541557.py:10: FutureWarning: suggest_loguniform has been deprecated in v3.0.0. This feature will be removed in v6.0.0. See https://github.com/optuna/optuna/releases/tag/v3.0.0. Use suggest_float(..., log=True) instead.\n",
      "  learning_rate = trial.suggest_loguniform('learning_rate', 0.01, 0.1)\n"
     ]
    },
    {
     "name": "stdout",
     "output_type": "stream",
     "text": [
      "Best Hyperparameters (XGBClassifier): {'model': 'XGBClassifier', 'n_estimators': 31, 'max_depth': 2, 'learning_rate': 0.06270169953740806}\n",
      "Best Mean Accuracy (XGBClassifier): 0.7848101265822786\n",
      "\n",
      "\n",
      "Best Hyperparameters (XGBClassifier): {'model': 'XGBClassifier', 'n_estimators': 23, 'max_depth': 3, 'learning_rate': 0.04356842508001853}\n",
      "Best Mean Accuracy (XGBClassifier): 0.8199718706047822\n",
      "\n",
      "\n"
     ]
    },
    {
     "name": "stderr",
     "output_type": "stream",
     "text": [
      "[I 2023-10-14 22:21:27,704] Trial 2 finished with value: 0.8298171589310831 and parameters: {'model': 'LGBMClassifier', 'num_leaves': 7, 'learning_rate': 0.040092174499882546}. Best is trial 2 with value: 0.8298171589310831.\n",
      "/tmp/ipykernel_20/1963541557.py:10: FutureWarning: suggest_loguniform has been deprecated in v3.0.0. This feature will be removed in v6.0.0. See https://github.com/optuna/optuna/releases/tag/v3.0.0. Use suggest_float(..., log=True) instead.\n",
      "  learning_rate = trial.suggest_loguniform('learning_rate', 0.01, 0.1)\n",
      "[I 2023-10-14 22:21:27,897] Trial 3 finished with value: 0.7749648382559774 and parameters: {'model': 'LGBMClassifier', 'num_leaves': 2, 'learning_rate': 0.028812871241264502}. Best is trial 2 with value: 0.8298171589310831.\n",
      "/tmp/ipykernel_20/1963541557.py:10: FutureWarning: suggest_loguniform has been deprecated in v3.0.0. This feature will be removed in v6.0.0. See https://github.com/optuna/optuna/releases/tag/v3.0.0. Use suggest_float(..., log=True) instead.\n",
      "  learning_rate = trial.suggest_loguniform('learning_rate', 0.01, 0.1)\n"
     ]
    },
    {
     "name": "stdout",
     "output_type": "stream",
     "text": [
      "Best Hyperparameters (LGBMClassifier): {'model': 'LGBMClassifier', 'num_leaves': 7, 'learning_rate': 0.040092174499882546}\n",
      "Best Mean Accuracy (LGBMClassifier): 0.8298171589310831\n",
      "\n",
      "\n",
      "Best Hyperparameters (LGBMClassifier): {'model': 'LGBMClassifier', 'num_leaves': 7, 'learning_rate': 0.040092174499882546}\n",
      "Best Mean Accuracy (LGBMClassifier): 0.8298171589310831\n",
      "\n",
      "\n"
     ]
    },
    {
     "name": "stderr",
     "output_type": "stream",
     "text": [
      "[I 2023-10-14 22:21:28,593] Trial 4 finished with value: 0.8312236286919831 and parameters: {'model': 'LGBMClassifier', 'num_leaves': 7, 'learning_rate': 0.0482170780316856}. Best is trial 4 with value: 0.8312236286919831.\n",
      "/tmp/ipykernel_20/1963541557.py:15: FutureWarning: suggest_loguniform has been deprecated in v3.0.0. This feature will be removed in v6.0.0. See https://github.com/optuna/optuna/releases/tag/v3.0.0. Use suggest_float(..., log=True) instead.\n",
      "  learning_rate = trial.suggest_loguniform('learning_rate', 0.01, 0.1)\n",
      "[I 2023-10-14 22:21:28,658] Trial 5 finished with value: 0.7876230661040787 and parameters: {'model': 'XGBClassifier', 'n_estimators': 36, 'max_depth': 6, 'learning_rate': 0.02944246343309446}. Best is trial 4 with value: 0.8312236286919831.\n",
      "/tmp/ipykernel_20/1963541557.py:15: FutureWarning: suggest_loguniform has been deprecated in v3.0.0. This feature will be removed in v6.0.0. See https://github.com/optuna/optuna/releases/tag/v3.0.0. Use suggest_float(..., log=True) instead.\n",
      "  learning_rate = trial.suggest_loguniform('learning_rate', 0.01, 0.1)\n",
      "[I 2023-10-14 22:21:28,708] Trial 6 finished with value: 0.7679324894514767 and parameters: {'model': 'XGBClassifier', 'n_estimators': 50, 'max_depth': 2, 'learning_rate': 0.028321658296490616}. Best is trial 4 with value: 0.8312236286919831.\n",
      "/tmp/ipykernel_20/1963541557.py:15: FutureWarning: suggest_loguniform has been deprecated in v3.0.0. This feature will be removed in v6.0.0. See https://github.com/optuna/optuna/releases/tag/v3.0.0. Use suggest_float(..., log=True) instead.\n",
      "  learning_rate = trial.suggest_loguniform('learning_rate', 0.01, 0.1)\n",
      "[I 2023-10-14 22:21:28,764] Trial 7 finished with value: 0.8199718706047822 and parameters: {'model': 'XGBClassifier', 'n_estimators': 46, 'max_depth': 3, 'learning_rate': 0.022806663152827356}. Best is trial 4 with value: 0.8312236286919831.\n",
      "/tmp/ipykernel_20/1963541557.py:15: FutureWarning: suggest_loguniform has been deprecated in v3.0.0. This feature will be removed in v6.0.0. See https://github.com/optuna/optuna/releases/tag/v3.0.0. Use suggest_float(..., log=True) instead.\n",
      "  learning_rate = trial.suggest_loguniform('learning_rate', 0.01, 0.1)\n"
     ]
    },
    {
     "name": "stdout",
     "output_type": "stream",
     "text": [
      "Best Hyperparameters (LGBMClassifier): {'model': 'LGBMClassifier', 'num_leaves': 7, 'learning_rate': 0.0482170780316856}\n",
      "Best Mean Accuracy (LGBMClassifier): 0.8312236286919831\n",
      "\n",
      "\n",
      "Best Hyperparameters (LGBMClassifier): {'model': 'LGBMClassifier', 'num_leaves': 7, 'learning_rate': 0.0482170780316856}\n",
      "Best Mean Accuracy (LGBMClassifier): 0.8312236286919831\n",
      "\n",
      "\n",
      "Best Hyperparameters (LGBMClassifier): {'model': 'LGBMClassifier', 'num_leaves': 7, 'learning_rate': 0.0482170780316856}\n",
      "Best Mean Accuracy (LGBMClassifier): 0.8312236286919831\n",
      "\n",
      "\n",
      "Best Hyperparameters (LGBMClassifier): {'model': 'LGBMClassifier', 'num_leaves': 7, 'learning_rate': 0.0482170780316856}\n",
      "Best Mean Accuracy (LGBMClassifier): 0.8312236286919831\n",
      "\n",
      "\n"
     ]
    },
    {
     "name": "stderr",
     "output_type": "stream",
     "text": [
      "[I 2023-10-14 22:21:28,805] Trial 8 finished with value: 0.790436005625879 and parameters: {'model': 'XGBClassifier', 'n_estimators': 11, 'max_depth': 6, 'learning_rate': 0.05783939948731367}. Best is trial 4 with value: 0.8312236286919831.\n",
      "/tmp/ipykernel_20/1963541557.py:10: FutureWarning: suggest_loguniform has been deprecated in v3.0.0. This feature will be removed in v6.0.0. See https://github.com/optuna/optuna/releases/tag/v3.0.0. Use suggest_float(..., log=True) instead.\n",
      "  learning_rate = trial.suggest_loguniform('learning_rate', 0.01, 0.1)\n"
     ]
    },
    {
     "name": "stdout",
     "output_type": "stream",
     "text": [
      "Best Hyperparameters (LGBMClassifier): {'model': 'LGBMClassifier', 'num_leaves': 7, 'learning_rate': 0.0482170780316856}\n",
      "Best Mean Accuracy (LGBMClassifier): 0.8312236286919831\n",
      "\n",
      "\n"
     ]
    },
    {
     "name": "stderr",
     "output_type": "stream",
     "text": [
      "[I 2023-10-14 22:21:29,541] Trial 9 finished with value: 0.7960618846694797 and parameters: {'model': 'LGBMClassifier', 'num_leaves': 7, 'learning_rate': 0.013323758481308352}. Best is trial 4 with value: 0.8312236286919831.\n",
      "/tmp/ipykernel_20/1963541557.py:10: FutureWarning: suggest_loguniform has been deprecated in v3.0.0. This feature will be removed in v6.0.0. See https://github.com/optuna/optuna/releases/tag/v3.0.0. Use suggest_float(..., log=True) instead.\n",
      "  learning_rate = trial.suggest_loguniform('learning_rate', 0.01, 0.1)\n"
     ]
    },
    {
     "name": "stdout",
     "output_type": "stream",
     "text": [
      "Best Hyperparameters (LGBMClassifier): {'model': 'LGBMClassifier', 'num_leaves': 7, 'learning_rate': 0.0482170780316856}\n",
      "Best Mean Accuracy (LGBMClassifier): 0.8312236286919831\n",
      "\n",
      "\n"
     ]
    },
    {
     "name": "stderr",
     "output_type": "stream",
     "text": [
      "[I 2023-10-14 22:21:30,482] Trial 10 finished with value: 0.8045007032348804 and parameters: {'model': 'LGBMClassifier', 'num_leaves': 9, 'learning_rate': 0.09633225931846215}. Best is trial 4 with value: 0.8312236286919831.\n",
      "/tmp/ipykernel_20/1963541557.py:10: FutureWarning: suggest_loguniform has been deprecated in v3.0.0. This feature will be removed in v6.0.0. See https://github.com/optuna/optuna/releases/tag/v3.0.0. Use suggest_float(..., log=True) instead.\n",
      "  learning_rate = trial.suggest_loguniform('learning_rate', 0.01, 0.1)\n"
     ]
    },
    {
     "name": "stdout",
     "output_type": "stream",
     "text": [
      "Best Hyperparameters (LGBMClassifier): {'model': 'LGBMClassifier', 'num_leaves': 7, 'learning_rate': 0.0482170780316856}\n",
      "Best Mean Accuracy (LGBMClassifier): 0.8312236286919831\n",
      "\n",
      "\n"
     ]
    },
    {
     "name": "stderr",
     "output_type": "stream",
     "text": [
      "[I 2023-10-14 22:21:31,349] Trial 11 finished with value: 0.8326300984528833 and parameters: {'model': 'LGBMClassifier', 'num_leaves': 6, 'learning_rate': 0.04464227078092692}. Best is trial 11 with value: 0.8326300984528833.\n",
      "/tmp/ipykernel_20/1963541557.py:10: FutureWarning: suggest_loguniform has been deprecated in v3.0.0. This feature will be removed in v6.0.0. See https://github.com/optuna/optuna/releases/tag/v3.0.0. Use suggest_float(..., log=True) instead.\n",
      "  learning_rate = trial.suggest_loguniform('learning_rate', 0.01, 0.1)\n"
     ]
    },
    {
     "name": "stdout",
     "output_type": "stream",
     "text": [
      "Best Hyperparameters (LGBMClassifier): {'model': 'LGBMClassifier', 'num_leaves': 6, 'learning_rate': 0.04464227078092692}\n",
      "Best Mean Accuracy (LGBMClassifier): 0.8326300984528833\n",
      "\n",
      "\n"
     ]
    },
    {
     "name": "stderr",
     "output_type": "stream",
     "text": [
      "[I 2023-10-14 22:21:31,810] Trial 12 finished with value: 0.818565400843882 and parameters: {'model': 'LGBMClassifier', 'num_leaves': 4, 'learning_rate': 0.060080190113098474}. Best is trial 11 with value: 0.8326300984528833.\n",
      "/tmp/ipykernel_20/1963541557.py:10: FutureWarning: suggest_loguniform has been deprecated in v3.0.0. This feature will be removed in v6.0.0. See https://github.com/optuna/optuna/releases/tag/v3.0.0. Use suggest_float(..., log=True) instead.\n",
      "  learning_rate = trial.suggest_loguniform('learning_rate', 0.01, 0.1)\n"
     ]
    },
    {
     "name": "stdout",
     "output_type": "stream",
     "text": [
      "Best Hyperparameters (LGBMClassifier): {'model': 'LGBMClassifier', 'num_leaves': 6, 'learning_rate': 0.04464227078092692}\n",
      "Best Mean Accuracy (LGBMClassifier): 0.8326300984528833\n",
      "\n",
      "\n"
     ]
    },
    {
     "name": "stderr",
     "output_type": "stream",
     "text": [
      "[I 2023-10-14 22:21:32,355] Trial 13 finished with value: 0.8213783403656821 and parameters: {'model': 'LGBMClassifier', 'num_leaves': 5, 'learning_rate': 0.09253147059293204}. Best is trial 11 with value: 0.8326300984528833.\n",
      "/tmp/ipykernel_20/1963541557.py:10: FutureWarning: suggest_loguniform has been deprecated in v3.0.0. This feature will be removed in v6.0.0. See https://github.com/optuna/optuna/releases/tag/v3.0.0. Use suggest_float(..., log=True) instead.\n",
      "  learning_rate = trial.suggest_loguniform('learning_rate', 0.01, 0.1)\n"
     ]
    },
    {
     "name": "stdout",
     "output_type": "stream",
     "text": [
      "Best Hyperparameters (LGBMClassifier): {'model': 'LGBMClassifier', 'num_leaves': 6, 'learning_rate': 0.04464227078092692}\n",
      "Best Mean Accuracy (LGBMClassifier): 0.8326300984528833\n",
      "\n",
      "\n"
     ]
    },
    {
     "name": "stderr",
     "output_type": "stream",
     "text": [
      "[I 2023-10-14 22:21:33,315] Trial 14 finished with value: 0.8157524613220817 and parameters: {'model': 'LGBMClassifier', 'num_leaves': 9, 'learning_rate': 0.042146199239549674}. Best is trial 11 with value: 0.8326300984528833.\n",
      "/tmp/ipykernel_20/1963541557.py:10: FutureWarning: suggest_loguniform has been deprecated in v3.0.0. This feature will be removed in v6.0.0. See https://github.com/optuna/optuna/releases/tag/v3.0.0. Use suggest_float(..., log=True) instead.\n",
      "  learning_rate = trial.suggest_loguniform('learning_rate', 0.01, 0.1)\n"
     ]
    },
    {
     "name": "stdout",
     "output_type": "stream",
     "text": [
      "Best Hyperparameters (LGBMClassifier): {'model': 'LGBMClassifier', 'num_leaves': 6, 'learning_rate': 0.04464227078092692}\n",
      "Best Mean Accuracy (LGBMClassifier): 0.8326300984528833\n",
      "\n",
      "\n"
     ]
    },
    {
     "name": "stderr",
     "output_type": "stream",
     "text": [
      "[I 2023-10-14 22:21:33,941] Trial 15 finished with value: 0.8016877637130803 and parameters: {'model': 'LGBMClassifier', 'num_leaves': 6, 'learning_rate': 0.017315809532604556}. Best is trial 11 with value: 0.8326300984528833.\n",
      "/tmp/ipykernel_20/1963541557.py:10: FutureWarning: suggest_loguniform has been deprecated in v3.0.0. This feature will be removed in v6.0.0. See https://github.com/optuna/optuna/releases/tag/v3.0.0. Use suggest_float(..., log=True) instead.\n",
      "  learning_rate = trial.suggest_loguniform('learning_rate', 0.01, 0.1)\n"
     ]
    },
    {
     "name": "stdout",
     "output_type": "stream",
     "text": [
      "Best Hyperparameters (LGBMClassifier): {'model': 'LGBMClassifier', 'num_leaves': 6, 'learning_rate': 0.04464227078092692}\n",
      "Best Mean Accuracy (LGBMClassifier): 0.8326300984528833\n",
      "\n",
      "\n"
     ]
    },
    {
     "name": "stderr",
     "output_type": "stream",
     "text": [
      "[I 2023-10-14 22:21:34,780] Trial 16 finished with value: 0.8298171589310831 and parameters: {'model': 'LGBMClassifier', 'num_leaves': 8, 'learning_rate': 0.03696630639709807}. Best is trial 11 with value: 0.8326300984528833.\n",
      "/tmp/ipykernel_20/1963541557.py:10: FutureWarning: suggest_loguniform has been deprecated in v3.0.0. This feature will be removed in v6.0.0. See https://github.com/optuna/optuna/releases/tag/v3.0.0. Use suggest_float(..., log=True) instead.\n",
      "  learning_rate = trial.suggest_loguniform('learning_rate', 0.01, 0.1)\n"
     ]
    },
    {
     "name": "stdout",
     "output_type": "stream",
     "text": [
      "Best Hyperparameters (LGBMClassifier): {'model': 'LGBMClassifier', 'num_leaves': 6, 'learning_rate': 0.04464227078092692}\n",
      "Best Mean Accuracy (LGBMClassifier): 0.8326300984528833\n",
      "\n",
      "\n"
     ]
    },
    {
     "name": "stderr",
     "output_type": "stream",
     "text": [
      "[I 2023-10-14 22:21:35,284] Trial 17 finished with value: 0.8143459915611815 and parameters: {'model': 'LGBMClassifier', 'num_leaves': 4, 'learning_rate': 0.049170382483222044}. Best is trial 11 with value: 0.8326300984528833.\n",
      "/tmp/ipykernel_20/1963541557.py:10: FutureWarning: suggest_loguniform has been deprecated in v3.0.0. This feature will be removed in v6.0.0. See https://github.com/optuna/optuna/releases/tag/v3.0.0. Use suggest_float(..., log=True) instead.\n",
      "  learning_rate = trial.suggest_loguniform('learning_rate', 0.01, 0.1)\n"
     ]
    },
    {
     "name": "stdout",
     "output_type": "stream",
     "text": [
      "Best Hyperparameters (LGBMClassifier): {'model': 'LGBMClassifier', 'num_leaves': 6, 'learning_rate': 0.04464227078092692}\n",
      "Best Mean Accuracy (LGBMClassifier): 0.8326300984528833\n",
      "\n",
      "\n"
     ]
    },
    {
     "name": "stderr",
     "output_type": "stream",
     "text": [
      "[I 2023-10-14 22:21:36,429] Trial 18 finished with value: 0.8073136427566808 and parameters: {'model': 'LGBMClassifier', 'num_leaves': 10, 'learning_rate': 0.06871095429440119}. Best is trial 11 with value: 0.8326300984528833.\n",
      "/tmp/ipykernel_20/1963541557.py:10: FutureWarning: suggest_loguniform has been deprecated in v3.0.0. This feature will be removed in v6.0.0. See https://github.com/optuna/optuna/releases/tag/v3.0.0. Use suggest_float(..., log=True) instead.\n",
      "  learning_rate = trial.suggest_loguniform('learning_rate', 0.01, 0.1)\n"
     ]
    },
    {
     "name": "stdout",
     "output_type": "stream",
     "text": [
      "Best Hyperparameters (LGBMClassifier): {'model': 'LGBMClassifier', 'num_leaves': 6, 'learning_rate': 0.04464227078092692}\n",
      "Best Mean Accuracy (LGBMClassifier): 0.8326300984528833\n",
      "\n",
      "\n"
     ]
    },
    {
     "name": "stderr",
     "output_type": "stream",
     "text": [
      "[I 2023-10-14 22:21:37,030] Trial 19 finished with value: 0.8270042194092827 and parameters: {'model': 'LGBMClassifier', 'num_leaves': 6, 'learning_rate': 0.03318734807826263}. Best is trial 11 with value: 0.8326300984528833.\n",
      "/tmp/ipykernel_20/1963541557.py:10: FutureWarning: suggest_loguniform has been deprecated in v3.0.0. This feature will be removed in v6.0.0. See https://github.com/optuna/optuna/releases/tag/v3.0.0. Use suggest_float(..., log=True) instead.\n",
      "  learning_rate = trial.suggest_loguniform('learning_rate', 0.01, 0.1)\n"
     ]
    },
    {
     "name": "stdout",
     "output_type": "stream",
     "text": [
      "Best Hyperparameters (LGBMClassifier): {'model': 'LGBMClassifier', 'num_leaves': 6, 'learning_rate': 0.04464227078092692}\n",
      "Best Mean Accuracy (LGBMClassifier): 0.8326300984528833\n",
      "\n",
      "\n"
     ]
    },
    {
     "name": "stderr",
     "output_type": "stream",
     "text": [
      "[I 2023-10-14 22:21:37,477] Trial 20 finished with value: 0.8171589310829818 and parameters: {'model': 'LGBMClassifier', 'num_leaves': 4, 'learning_rate': 0.04829584603804575}. Best is trial 11 with value: 0.8326300984528833.\n",
      "/tmp/ipykernel_20/1963541557.py:10: FutureWarning: suggest_loguniform has been deprecated in v3.0.0. This feature will be removed in v6.0.0. See https://github.com/optuna/optuna/releases/tag/v3.0.0. Use suggest_float(..., log=True) instead.\n",
      "  learning_rate = trial.suggest_loguniform('learning_rate', 0.01, 0.1)\n"
     ]
    },
    {
     "name": "stdout",
     "output_type": "stream",
     "text": [
      "Best Hyperparameters (LGBMClassifier): {'model': 'LGBMClassifier', 'num_leaves': 6, 'learning_rate': 0.04464227078092692}\n",
      "Best Mean Accuracy (LGBMClassifier): 0.8326300984528833\n",
      "\n",
      "\n"
     ]
    },
    {
     "name": "stderr",
     "output_type": "stream",
     "text": [
      "[I 2023-10-14 22:21:38,155] Trial 21 finished with value: 0.8312236286919831 and parameters: {'model': 'LGBMClassifier', 'num_leaves': 7, 'learning_rate': 0.03847712228189949}. Best is trial 11 with value: 0.8326300984528833.\n",
      "/tmp/ipykernel_20/1963541557.py:10: FutureWarning: suggest_loguniform has been deprecated in v3.0.0. This feature will be removed in v6.0.0. See https://github.com/optuna/optuna/releases/tag/v3.0.0. Use suggest_float(..., log=True) instead.\n",
      "  learning_rate = trial.suggest_loguniform('learning_rate', 0.01, 0.1)\n"
     ]
    },
    {
     "name": "stdout",
     "output_type": "stream",
     "text": [
      "Best Hyperparameters (LGBMClassifier): {'model': 'LGBMClassifier', 'num_leaves': 6, 'learning_rate': 0.04464227078092692}\n",
      "Best Mean Accuracy (LGBMClassifier): 0.8326300984528833\n",
      "\n",
      "\n"
     ]
    },
    {
     "name": "stderr",
     "output_type": "stream",
     "text": [
      "[I 2023-10-14 22:21:38,781] Trial 22 finished with value: 0.8298171589310831 and parameters: {'model': 'LGBMClassifier', 'num_leaves': 7, 'learning_rate': 0.03748590317414488}. Best is trial 11 with value: 0.8326300984528833.\n",
      "/tmp/ipykernel_20/1963541557.py:10: FutureWarning: suggest_loguniform has been deprecated in v3.0.0. This feature will be removed in v6.0.0. See https://github.com/optuna/optuna/releases/tag/v3.0.0. Use suggest_float(..., log=True) instead.\n",
      "  learning_rate = trial.suggest_loguniform('learning_rate', 0.01, 0.1)\n"
     ]
    },
    {
     "name": "stdout",
     "output_type": "stream",
     "text": [
      "Best Hyperparameters (LGBMClassifier): {'model': 'LGBMClassifier', 'num_leaves': 6, 'learning_rate': 0.04464227078092692}\n",
      "Best Mean Accuracy (LGBMClassifier): 0.8326300984528833\n",
      "\n",
      "\n"
     ]
    },
    {
     "name": "stderr",
     "output_type": "stream",
     "text": [
      "[I 2023-10-14 22:21:39,567] Trial 23 finished with value: 0.8199718706047819 and parameters: {'model': 'LGBMClassifier', 'num_leaves': 8, 'learning_rate': 0.05240565306518613}. Best is trial 11 with value: 0.8326300984528833.\n",
      "/tmp/ipykernel_20/1963541557.py:10: FutureWarning: suggest_loguniform has been deprecated in v3.0.0. This feature will be removed in v6.0.0. See https://github.com/optuna/optuna/releases/tag/v3.0.0. Use suggest_float(..., log=True) instead.\n",
      "  learning_rate = trial.suggest_loguniform('learning_rate', 0.01, 0.1)\n"
     ]
    },
    {
     "name": "stdout",
     "output_type": "stream",
     "text": [
      "Best Hyperparameters (LGBMClassifier): {'model': 'LGBMClassifier', 'num_leaves': 6, 'learning_rate': 0.04464227078092692}\n",
      "Best Mean Accuracy (LGBMClassifier): 0.8326300984528833\n",
      "\n",
      "\n"
     ]
    },
    {
     "name": "stderr",
     "output_type": "stream",
     "text": [
      "[I 2023-10-14 22:21:40,085] Trial 24 finished with value: 0.8284106891701827 and parameters: {'model': 'LGBMClassifier', 'num_leaves': 5, 'learning_rate': 0.0758344408529584}. Best is trial 11 with value: 0.8326300984528833.\n",
      "/tmp/ipykernel_20/1963541557.py:10: FutureWarning: suggest_loguniform has been deprecated in v3.0.0. This feature will be removed in v6.0.0. See https://github.com/optuna/optuna/releases/tag/v3.0.0. Use suggest_float(..., log=True) instead.\n",
      "  learning_rate = trial.suggest_loguniform('learning_rate', 0.01, 0.1)\n"
     ]
    },
    {
     "name": "stdout",
     "output_type": "stream",
     "text": [
      "Best Hyperparameters (LGBMClassifier): {'model': 'LGBMClassifier', 'num_leaves': 6, 'learning_rate': 0.04464227078092692}\n",
      "Best Mean Accuracy (LGBMClassifier): 0.8326300984528833\n",
      "\n",
      "\n"
     ]
    },
    {
     "name": "stderr",
     "output_type": "stream",
     "text": [
      "[I 2023-10-14 22:21:40,887] Trial 25 finished with value: 0.8284106891701829 and parameters: {'model': 'LGBMClassifier', 'num_leaves': 8, 'learning_rate': 0.047030737019378176}. Best is trial 11 with value: 0.8326300984528833.\n",
      "/tmp/ipykernel_20/1963541557.py:10: FutureWarning: suggest_loguniform has been deprecated in v3.0.0. This feature will be removed in v6.0.0. See https://github.com/optuna/optuna/releases/tag/v3.0.0. Use suggest_float(..., log=True) instead.\n",
      "  learning_rate = trial.suggest_loguniform('learning_rate', 0.01, 0.1)\n"
     ]
    },
    {
     "name": "stdout",
     "output_type": "stream",
     "text": [
      "Best Hyperparameters (LGBMClassifier): {'model': 'LGBMClassifier', 'num_leaves': 6, 'learning_rate': 0.04464227078092692}\n",
      "Best Mean Accuracy (LGBMClassifier): 0.8326300984528833\n",
      "\n",
      "\n"
     ]
    },
    {
     "name": "stderr",
     "output_type": "stream",
     "text": [
      "[I 2023-10-14 22:21:41,502] Trial 26 finished with value: 0.818565400843882 and parameters: {'model': 'LGBMClassifier', 'num_leaves': 6, 'learning_rate': 0.03461074446412106}. Best is trial 11 with value: 0.8326300984528833.\n",
      "/tmp/ipykernel_20/1963541557.py:10: FutureWarning: suggest_loguniform has been deprecated in v3.0.0. This feature will be removed in v6.0.0. See https://github.com/optuna/optuna/releases/tag/v3.0.0. Use suggest_float(..., log=True) instead.\n",
      "  learning_rate = trial.suggest_loguniform('learning_rate', 0.01, 0.1)\n"
     ]
    },
    {
     "name": "stdout",
     "output_type": "stream",
     "text": [
      "Best Hyperparameters (LGBMClassifier): {'model': 'LGBMClassifier', 'num_leaves': 6, 'learning_rate': 0.04464227078092692}\n",
      "Best Mean Accuracy (LGBMClassifier): 0.8326300984528833\n",
      "\n",
      "\n"
     ]
    },
    {
     "name": "stderr",
     "output_type": "stream",
     "text": [
      "[I 2023-10-14 22:21:42,004] Trial 27 finished with value: 0.8059071729957806 and parameters: {'model': 'LGBMClassifier', 'num_leaves': 5, 'learning_rate': 0.02375831200306289}. Best is trial 11 with value: 0.8326300984528833.\n",
      "/tmp/ipykernel_20/1963541557.py:10: FutureWarning: suggest_loguniform has been deprecated in v3.0.0. This feature will be removed in v6.0.0. See https://github.com/optuna/optuna/releases/tag/v3.0.0. Use suggest_float(..., log=True) instead.\n",
      "  learning_rate = trial.suggest_loguniform('learning_rate', 0.01, 0.1)\n"
     ]
    },
    {
     "name": "stdout",
     "output_type": "stream",
     "text": [
      "Best Hyperparameters (LGBMClassifier): {'model': 'LGBMClassifier', 'num_leaves': 6, 'learning_rate': 0.04464227078092692}\n",
      "Best Mean Accuracy (LGBMClassifier): 0.8326300984528833\n",
      "\n",
      "\n"
     ]
    },
    {
     "name": "stderr",
     "output_type": "stream",
     "text": [
      "[I 2023-10-14 22:21:42,663] Trial 28 finished with value: 0.8255977496483826 and parameters: {'model': 'LGBMClassifier', 'num_leaves': 7, 'learning_rate': 0.05333797581356079}. Best is trial 11 with value: 0.8326300984528833.\n",
      "/tmp/ipykernel_20/1963541557.py:15: FutureWarning: suggest_loguniform has been deprecated in v3.0.0. This feature will be removed in v6.0.0. See https://github.com/optuna/optuna/releases/tag/v3.0.0. Use suggest_float(..., log=True) instead.\n",
      "  learning_rate = trial.suggest_loguniform('learning_rate', 0.01, 0.1)\n",
      "[I 2023-10-14 22:21:42,714] Trial 29 finished with value: 0.8045007032348804 and parameters: {'model': 'XGBClassifier', 'n_estimators': 10, 'max_depth': 5, 'learning_rate': 0.07457942569532784}. Best is trial 11 with value: 0.8326300984528833.\n"
     ]
    },
    {
     "name": "stdout",
     "output_type": "stream",
     "text": [
      "Best Hyperparameters (LGBMClassifier): {'model': 'LGBMClassifier', 'num_leaves': 6, 'learning_rate': 0.04464227078092692}\n",
      "Best Mean Accuracy (LGBMClassifier): 0.8326300984528833\n",
      "\n",
      "\n",
      "Best Hyperparameters (LGBMClassifier): {'model': 'LGBMClassifier', 'num_leaves': 6, 'learning_rate': 0.04464227078092692}\n",
      "Best Mean Accuracy (LGBMClassifier): 0.8326300984528833\n",
      "\n",
      "\n"
     ]
    }
   ],
   "source": [
    " # Define the objective function for Optuna to optimize\n",
    "gb_models = ['LGBMClassifier', 'XGBClassifier']\n",
    "\n",
    "# Define an objective function for Optuna to optimize\n",
    "def objective(trial):\n",
    "    model_name = trial.suggest_categorical('model', gb_models)\n",
    "\n",
    "    if model_name == 'LGBMClassifier':\n",
    "        num_leaves = trial.suggest_int('num_leaves', 2, 10)\n",
    "        learning_rate = trial.suggest_loguniform('learning_rate', 0.01, 0.1)\n",
    "        model = LGBMClassifier(num_leaves=num_leaves, learning_rate=learning_rate, random_state=42)\n",
    "    elif model_name == 'XGBClassifier':\n",
    "        n_estimators = trial.suggest_int('n_estimators', 10, 50)\n",
    "        max_depth = trial.suggest_int('max_depth', 2, 6)\n",
    "        learning_rate = trial.suggest_loguniform('learning_rate', 0.01, 0.1)\n",
    "        model = XGBClassifier(n_estimators=n_estimators, max_depth=max_depth, learning_rate=learning_rate, random_state=42)\n",
    "\n",
    "    # Perform cross validation with 3 folds (to save resources)\n",
    "    scores = cross_val_score(model, X_train, y_train, scoring='accuracy', cv=3)\n",
    "\n",
    "    # Calculate the mean accuracy scores\n",
    "    accuracy_mean = scores.mean()\n",
    "    \n",
    "    return accuracy_mean\n",
    "\n",
    "# Create an Optuna study\n",
    "study_2 = optuna.create_study(direction='maximize')\n",
    "\n",
    "# Optimize the objective function for each model (with fewer trials)\n",
    "for _ in range(30):  # Repeat for 30 trials\n",
    "    study_2.optimize(objective, n_trials=1)\n",
    "\n",
    "    # Print the best hyperparameters and objective value for each model\n",
    "    best_params = study_2.best_params\n",
    "    best_accuracy = study_2.best_value\n",
    "    print(f\"Best Hyperparameters ({study_2.best_trial.params['model']}):\", best_params)\n",
    "    print(f\"Best Mean Accuracy ({study_2.best_trial.params['model']}):\", best_accuracy)\n",
    "    print(\"\\n\")"
   ]
  },
  {
   "cell_type": "code",
   "execution_count": 35,
   "id": "6045e1db",
   "metadata": {
    "execution": {
     "iopub.execute_input": "2023-10-14T22:21:42.760717Z",
     "iopub.status.busy": "2023-10-14T22:21:42.760121Z",
     "iopub.status.idle": "2023-10-14T22:21:42.765235Z",
     "shell.execute_reply": "2023-10-14T22:21:42.764027Z"
    },
    "papermill": {
     "duration": 0.027104,
     "end_time": "2023-10-14T22:21:42.767007",
     "exception": false,
     "start_time": "2023-10-14T22:21:42.739903",
     "status": "completed"
    },
    "tags": []
   },
   "outputs": [],
   "source": [
    "final_classifier = RandomForestClassifier(n_estimators =  22, max_depth = 5, random_state = 1)"
   ]
  },
  {
   "cell_type": "code",
   "execution_count": 36,
   "id": "911ba993",
   "metadata": {
    "execution": {
     "iopub.execute_input": "2023-10-14T22:21:42.806874Z",
     "iopub.status.busy": "2023-10-14T22:21:42.806574Z",
     "iopub.status.idle": "2023-10-14T22:21:42.851370Z",
     "shell.execute_reply": "2023-10-14T22:21:42.849898Z"
    },
    "papermill": {
     "duration": 0.06747,
     "end_time": "2023-10-14T22:21:42.853932",
     "exception": false,
     "start_time": "2023-10-14T22:21:42.786462",
     "status": "completed"
    },
    "tags": []
   },
   "outputs": [
    {
     "data": {
      "text/html": [
       "<style>#sk-container-id-1 {color: black;background-color: white;}#sk-container-id-1 pre{padding: 0;}#sk-container-id-1 div.sk-toggleable {background-color: white;}#sk-container-id-1 label.sk-toggleable__label {cursor: pointer;display: block;width: 100%;margin-bottom: 0;padding: 0.3em;box-sizing: border-box;text-align: center;}#sk-container-id-1 label.sk-toggleable__label-arrow:before {content: \"▸\";float: left;margin-right: 0.25em;color: #696969;}#sk-container-id-1 label.sk-toggleable__label-arrow:hover:before {color: black;}#sk-container-id-1 div.sk-estimator:hover label.sk-toggleable__label-arrow:before {color: black;}#sk-container-id-1 div.sk-toggleable__content {max-height: 0;max-width: 0;overflow: hidden;text-align: left;background-color: #f0f8ff;}#sk-container-id-1 div.sk-toggleable__content pre {margin: 0.2em;color: black;border-radius: 0.25em;background-color: #f0f8ff;}#sk-container-id-1 input.sk-toggleable__control:checked~div.sk-toggleable__content {max-height: 200px;max-width: 100%;overflow: auto;}#sk-container-id-1 input.sk-toggleable__control:checked~label.sk-toggleable__label-arrow:before {content: \"▾\";}#sk-container-id-1 div.sk-estimator input.sk-toggleable__control:checked~label.sk-toggleable__label {background-color: #d4ebff;}#sk-container-id-1 div.sk-label input.sk-toggleable__control:checked~label.sk-toggleable__label {background-color: #d4ebff;}#sk-container-id-1 input.sk-hidden--visually {border: 0;clip: rect(1px 1px 1px 1px);clip: rect(1px, 1px, 1px, 1px);height: 1px;margin: -1px;overflow: hidden;padding: 0;position: absolute;width: 1px;}#sk-container-id-1 div.sk-estimator {font-family: monospace;background-color: #f0f8ff;border: 1px dotted black;border-radius: 0.25em;box-sizing: border-box;margin-bottom: 0.5em;}#sk-container-id-1 div.sk-estimator:hover {background-color: #d4ebff;}#sk-container-id-1 div.sk-parallel-item::after {content: \"\";width: 100%;border-bottom: 1px solid gray;flex-grow: 1;}#sk-container-id-1 div.sk-label:hover label.sk-toggleable__label {background-color: #d4ebff;}#sk-container-id-1 div.sk-serial::before {content: \"\";position: absolute;border-left: 1px solid gray;box-sizing: border-box;top: 0;bottom: 0;left: 50%;z-index: 0;}#sk-container-id-1 div.sk-serial {display: flex;flex-direction: column;align-items: center;background-color: white;padding-right: 0.2em;padding-left: 0.2em;position: relative;}#sk-container-id-1 div.sk-item {position: relative;z-index: 1;}#sk-container-id-1 div.sk-parallel {display: flex;align-items: stretch;justify-content: center;background-color: white;position: relative;}#sk-container-id-1 div.sk-item::before, #sk-container-id-1 div.sk-parallel-item::before {content: \"\";position: absolute;border-left: 1px solid gray;box-sizing: border-box;top: 0;bottom: 0;left: 50%;z-index: -1;}#sk-container-id-1 div.sk-parallel-item {display: flex;flex-direction: column;z-index: 1;position: relative;background-color: white;}#sk-container-id-1 div.sk-parallel-item:first-child::after {align-self: flex-end;width: 50%;}#sk-container-id-1 div.sk-parallel-item:last-child::after {align-self: flex-start;width: 50%;}#sk-container-id-1 div.sk-parallel-item:only-child::after {width: 0;}#sk-container-id-1 div.sk-dashed-wrapped {border: 1px dashed gray;margin: 0 0.4em 0.5em 0.4em;box-sizing: border-box;padding-bottom: 0.4em;background-color: white;}#sk-container-id-1 div.sk-label label {font-family: monospace;font-weight: bold;display: inline-block;line-height: 1.2em;}#sk-container-id-1 div.sk-label-container {text-align: center;}#sk-container-id-1 div.sk-container {/* jupyter's `normalize.less` sets `[hidden] { display: none; }` but bootstrap.min.css set `[hidden] { display: none !important; }` so we also need the `!important` here to be able to override the default hidden behavior on the sphinx rendered scikit-learn.org. See: https://github.com/scikit-learn/scikit-learn/issues/21755 */display: inline-block !important;position: relative;}#sk-container-id-1 div.sk-text-repr-fallback {display: none;}</style><div id=\"sk-container-id-1\" class=\"sk-top-container\"><div class=\"sk-text-repr-fallback\"><pre>RandomForestClassifier(max_depth=5, n_estimators=22, random_state=1)</pre><b>In a Jupyter environment, please rerun this cell to show the HTML representation or trust the notebook. <br />On GitHub, the HTML representation is unable to render, please try loading this page with nbviewer.org.</b></div><div class=\"sk-container\" hidden><div class=\"sk-item\"><div class=\"sk-estimator sk-toggleable\"><input class=\"sk-toggleable__control sk-hidden--visually\" id=\"sk-estimator-id-1\" type=\"checkbox\" checked><label for=\"sk-estimator-id-1\" class=\"sk-toggleable__label sk-toggleable__label-arrow\">RandomForestClassifier</label><div class=\"sk-toggleable__content\"><pre>RandomForestClassifier(max_depth=5, n_estimators=22, random_state=1)</pre></div></div></div></div></div>"
      ],
      "text/plain": [
       "RandomForestClassifier(max_depth=5, n_estimators=22, random_state=1)"
      ]
     },
     "execution_count": 36,
     "metadata": {},
     "output_type": "execute_result"
    }
   ],
   "source": [
    "final_classifier.fit(pd.concat([X_train, X_val]),pd.concat([y_train, y_val]))"
   ]
  },
  {
   "cell_type": "code",
   "execution_count": 37,
   "id": "567575a7",
   "metadata": {
    "execution": {
     "iopub.execute_input": "2023-10-14T22:21:42.897057Z",
     "iopub.status.busy": "2023-10-14T22:21:42.895956Z",
     "iopub.status.idle": "2023-10-14T22:21:42.905525Z",
     "shell.execute_reply": "2023-10-14T22:21:42.904600Z"
    },
    "papermill": {
     "duration": 0.032617,
     "end_time": "2023-10-14T22:21:42.907442",
     "exception": false,
     "start_time": "2023-10-14T22:21:42.874825",
     "status": "completed"
    },
    "tags": []
   },
   "outputs": [],
   "source": [
    "X_test = test_df_final[final_features]\n",
    "\n",
    "test_predictions = final_classifier.predict(X_test)"
   ]
  },
  {
   "cell_type": "code",
   "execution_count": 38,
   "id": "87a34325",
   "metadata": {
    "execution": {
     "iopub.execute_input": "2023-10-14T22:21:42.948724Z",
     "iopub.status.busy": "2023-10-14T22:21:42.947906Z",
     "iopub.status.idle": "2023-10-14T22:21:42.952103Z",
     "shell.execute_reply": "2023-10-14T22:21:42.951523Z"
    },
    "papermill": {
     "duration": 0.027361,
     "end_time": "2023-10-14T22:21:42.954483",
     "exception": false,
     "start_time": "2023-10-14T22:21:42.927122",
     "status": "completed"
    },
    "tags": []
   },
   "outputs": [],
   "source": [
    "# Create a submission file\n",
    "submission_df_final = pd.DataFrame({'PassengerId': test_df_final['PassengerId'],\n",
    "                                    'Survived' :test_predictions })\n",
    "\n"
   ]
  },
  {
   "cell_type": "code",
   "execution_count": 39,
   "id": "a7a465c4",
   "metadata": {
    "execution": {
     "iopub.execute_input": "2023-10-14T22:21:42.996716Z",
     "iopub.status.busy": "2023-10-14T22:21:42.996355Z",
     "iopub.status.idle": "2023-10-14T22:21:43.004439Z",
     "shell.execute_reply": "2023-10-14T22:21:43.003239Z"
    },
    "papermill": {
     "duration": 0.031091,
     "end_time": "2023-10-14T22:21:43.006574",
     "exception": false,
     "start_time": "2023-10-14T22:21:42.975483",
     "status": "completed"
    },
    "tags": []
   },
   "outputs": [
    {
     "data": {
      "text/html": [
       "<div>\n",
       "<style scoped>\n",
       "    .dataframe tbody tr th:only-of-type {\n",
       "        vertical-align: middle;\n",
       "    }\n",
       "\n",
       "    .dataframe tbody tr th {\n",
       "        vertical-align: top;\n",
       "    }\n",
       "\n",
       "    .dataframe thead th {\n",
       "        text-align: right;\n",
       "    }\n",
       "</style>\n",
       "<table border=\"1\" class=\"dataframe\">\n",
       "  <thead>\n",
       "    <tr style=\"text-align: right;\">\n",
       "      <th></th>\n",
       "      <th>PassengerId</th>\n",
       "      <th>Survived</th>\n",
       "    </tr>\n",
       "  </thead>\n",
       "  <tbody>\n",
       "    <tr>\n",
       "      <th>0</th>\n",
       "      <td>892</td>\n",
       "      <td>0</td>\n",
       "    </tr>\n",
       "    <tr>\n",
       "      <th>1</th>\n",
       "      <td>893</td>\n",
       "      <td>0</td>\n",
       "    </tr>\n",
       "    <tr>\n",
       "      <th>2</th>\n",
       "      <td>894</td>\n",
       "      <td>0</td>\n",
       "    </tr>\n",
       "    <tr>\n",
       "      <th>3</th>\n",
       "      <td>895</td>\n",
       "      <td>0</td>\n",
       "    </tr>\n",
       "    <tr>\n",
       "      <th>4</th>\n",
       "      <td>896</td>\n",
       "      <td>1</td>\n",
       "    </tr>\n",
       "  </tbody>\n",
       "</table>\n",
       "</div>"
      ],
      "text/plain": [
       "   PassengerId  Survived\n",
       "0          892         0\n",
       "1          893         0\n",
       "2          894         0\n",
       "3          895         0\n",
       "4          896         1"
      ]
     },
     "execution_count": 39,
     "metadata": {},
     "output_type": "execute_result"
    }
   ],
   "source": [
    "submission_df_final.head()"
   ]
  },
  {
   "cell_type": "code",
   "execution_count": 40,
   "id": "7f3245fb",
   "metadata": {
    "execution": {
     "iopub.execute_input": "2023-10-14T22:21:43.051447Z",
     "iopub.status.busy": "2023-10-14T22:21:43.050906Z",
     "iopub.status.idle": "2023-10-14T22:21:43.058265Z",
     "shell.execute_reply": "2023-10-14T22:21:43.057624Z"
    },
    "papermill": {
     "duration": 0.032378,
     "end_time": "2023-10-14T22:21:43.060104",
     "exception": false,
     "start_time": "2023-10-14T22:21:43.027726",
     "status": "completed"
    },
    "tags": []
   },
   "outputs": [],
   "source": [
    "submission_df_final.to_csv('submission.csv', index=False)"
   ]
  },
  {
   "cell_type": "code",
   "execution_count": 41,
   "id": "8d304a45",
   "metadata": {
    "execution": {
     "iopub.execute_input": "2023-10-14T22:21:43.101304Z",
     "iopub.status.busy": "2023-10-14T22:21:43.100789Z",
     "iopub.status.idle": "2023-10-14T22:21:56.730073Z",
     "shell.execute_reply": "2023-10-14T22:21:56.729572Z"
    },
    "papermill": {
     "duration": 13.651527,
     "end_time": "2023-10-14T22:21:56.731979",
     "exception": false,
     "start_time": "2023-10-14T22:21:43.080452",
     "status": "completed"
    },
    "tags": []
   },
   "outputs": [
    {
     "name": "stdout",
     "output_type": "stream",
     "text": [
      "Fitting 5 folds for each of 81 candidates, totalling 405 fits\n",
      "Best Parameters: {'colsample_bytree': 0.7, 'learning_rate': 0.1, 'max_depth': 5, 'n_estimators': 100}\n",
      "Best Cross-Validated Accuracy: 0.8357709642607757\n"
     ]
    }
   ],
   "source": [
    "from sklearn.model_selection import StratifiedKFold, GridSearchCV\n",
    "import xgboost as xgb\n",
    "\n",
    "# Label encoding (if needed)\n",
    "for column in X.select_dtypes(include=['object']).columns:\n",
    "    le = LabelEncoder()\n",
    "    X[column] = le.fit_transform(X[column])\n",
    "\n",
    "# Create a Stratified K-Fold cross-validator\n",
    "cv = StratifiedKFold(n_splits=5, shuffle=True, random_state=42)\n",
    "\n",
    "# Create an XGB classifier instance\n",
    "xgb_classifier = xgb.XGBClassifier(objective='binary:logistic')\n",
    "\n",
    "# Define a parameter grid to search\n",
    "param_grid = {\n",
    "    'max_depth': [3, 4, 5],\n",
    "    'learning_rate': [0.01, 0.05, 0.1],\n",
    "    'n_estimators': [50, 100, 150],\n",
    "    'colsample_bytree': [0.3, 0.5, 0.7]\n",
    "}\n",
    "\n",
    "# Create the GridSearchCV object\n",
    "grid_search = GridSearchCV(estimator=xgb_classifier, param_grid=param_grid, \n",
    "                           scoring='accuracy', cv=cv, n_jobs=-1, verbose=1)\n",
    "\n",
    "# Fit the grid search to the data\n",
    "grid_search.fit(X, y)\n",
    "\n",
    "# Print best parameters\n",
    "print(\"Best Parameters:\", grid_search.best_params_)\n",
    "\n",
    "# Best cross-validated accuracy\n",
    "print(\"Best Cross-Validated Accuracy:\", grid_search.best_score_)"
   ]
  },
  {
   "cell_type": "code",
   "execution_count": 42,
   "id": "1b1319ee",
   "metadata": {
    "execution": {
     "iopub.execute_input": "2023-10-14T22:21:56.776775Z",
     "iopub.status.busy": "2023-10-14T22:21:56.776187Z",
     "iopub.status.idle": "2023-10-14T22:21:56.783908Z",
     "shell.execute_reply": "2023-10-14T22:21:56.782624Z"
    },
    "papermill": {
     "duration": 0.032268,
     "end_time": "2023-10-14T22:21:56.786430",
     "exception": false,
     "start_time": "2023-10-14T22:21:56.754162",
     "status": "completed"
    },
    "tags": []
   },
   "outputs": [],
   "source": [
    "best_model = grid_search.best_estimator_\n",
    "test_predictions = best_model.predict(X_test)\n",
    "submission_df_final = pd.DataFrame({'PassengerId': test_df_final['PassengerId'],\n",
    "                                    'Survived' : test_predictions })"
   ]
  },
  {
   "cell_type": "code",
   "execution_count": 43,
   "id": "15442616",
   "metadata": {
    "execution": {
     "iopub.execute_input": "2023-10-14T22:21:56.829048Z",
     "iopub.status.busy": "2023-10-14T22:21:56.828755Z",
     "iopub.status.idle": "2023-10-14T22:21:56.835585Z",
     "shell.execute_reply": "2023-10-14T22:21:56.834012Z"
    },
    "papermill": {
     "duration": 0.030408,
     "end_time": "2023-10-14T22:21:56.837877",
     "exception": false,
     "start_time": "2023-10-14T22:21:56.807469",
     "status": "completed"
    },
    "tags": []
   },
   "outputs": [],
   "source": [
    "submission_df_final.to_csv('submission.csv', index=False)"
   ]
  },
  {
   "cell_type": "code",
   "execution_count": 44,
   "id": "39d02622",
   "metadata": {
    "execution": {
     "iopub.execute_input": "2023-10-14T22:21:56.881819Z",
     "iopub.status.busy": "2023-10-14T22:21:56.881547Z",
     "iopub.status.idle": "2023-10-14T22:21:56.888062Z",
     "shell.execute_reply": "2023-10-14T22:21:56.886945Z"
    },
    "papermill": {
     "duration": 0.029932,
     "end_time": "2023-10-14T22:21:56.889668",
     "exception": false,
     "start_time": "2023-10-14T22:21:56.859736",
     "status": "completed"
    },
    "tags": []
   },
   "outputs": [
    {
     "data": {
      "text/html": [
       "<div>\n",
       "<style scoped>\n",
       "    .dataframe tbody tr th:only-of-type {\n",
       "        vertical-align: middle;\n",
       "    }\n",
       "\n",
       "    .dataframe tbody tr th {\n",
       "        vertical-align: top;\n",
       "    }\n",
       "\n",
       "    .dataframe thead th {\n",
       "        text-align: right;\n",
       "    }\n",
       "</style>\n",
       "<table border=\"1\" class=\"dataframe\">\n",
       "  <thead>\n",
       "    <tr style=\"text-align: right;\">\n",
       "      <th></th>\n",
       "      <th>PassengerId</th>\n",
       "      <th>Survived</th>\n",
       "    </tr>\n",
       "  </thead>\n",
       "  <tbody>\n",
       "    <tr>\n",
       "      <th>0</th>\n",
       "      <td>892</td>\n",
       "      <td>0</td>\n",
       "    </tr>\n",
       "    <tr>\n",
       "      <th>1</th>\n",
       "      <td>893</td>\n",
       "      <td>0</td>\n",
       "    </tr>\n",
       "    <tr>\n",
       "      <th>2</th>\n",
       "      <td>894</td>\n",
       "      <td>0</td>\n",
       "    </tr>\n",
       "    <tr>\n",
       "      <th>3</th>\n",
       "      <td>895</td>\n",
       "      <td>0</td>\n",
       "    </tr>\n",
       "    <tr>\n",
       "      <th>4</th>\n",
       "      <td>896</td>\n",
       "      <td>1</td>\n",
       "    </tr>\n",
       "  </tbody>\n",
       "</table>\n",
       "</div>"
      ],
      "text/plain": [
       "   PassengerId  Survived\n",
       "0          892         0\n",
       "1          893         0\n",
       "2          894         0\n",
       "3          895         0\n",
       "4          896         1"
      ]
     },
     "execution_count": 44,
     "metadata": {},
     "output_type": "execute_result"
    }
   ],
   "source": [
    "submission_df_final.head()"
   ]
  }
 ],
 "metadata": {
  "kernelspec": {
   "display_name": "Python 3 (ipykernel)",
   "language": "python",
   "name": "python3"
  },
  "language_info": {
   "codemirror_mode": {
    "name": "ipython",
    "version": 3
   },
   "file_extension": ".py",
   "mimetype": "text/x-python",
   "name": "python",
   "nbconvert_exporter": "python",
   "pygments_lexer": "ipython3",
   "version": "3.11.5"
  },
  "papermill": {
   "default_parameters": {},
   "duration": 82.057596,
   "end_time": "2023-10-14T22:21:57.931692",
   "environment_variables": {},
   "exception": null,
   "input_path": "__notebook__.ipynb",
   "output_path": "__notebook__.ipynb",
   "parameters": {},
   "start_time": "2023-10-14T22:20:35.874096",
   "version": "2.4.0"
  }
 },
 "nbformat": 4,
 "nbformat_minor": 5
}
